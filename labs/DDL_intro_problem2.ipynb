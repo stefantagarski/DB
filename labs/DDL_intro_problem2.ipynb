{
    "metadata": {
        "kernelspec": {
            "name": "SQL",
            "display_name": "SQL",
            "language": "sql"
        },
        "language_info": {
            "name": "sql",
            "version": ""
        }
    },
    "nbformat_minor": 2,
    "nbformat": 4,
    "cells": [
        {
            "cell_type": "markdown",
            "source": [
                "## DDL Auditory Exercise: Part 2  \r\n",
                "\r\n",
                "Welcome back to the second part of our auditory exercise on Data Definition Language (DDL)! Building on the foundational concepts from the first session, we will now explore advanced aspects of database design, focusing on handling complex attributes and relationships.  \r\n",
                "\r\n",
                "### What You Will Learn  \r\n",
                "\r\n",
                "In this continuation, you will expand your knowledge and skills with:  \r\n",
                "\r\n",
                "#### Advanced Table Design  \r\n",
                "- **Multivalued Attributes**: Learn how to properly model and implement multivalued attributes using additional tables and relationships.  \r\n",
                "- **Ternary Relationships**: Understand how to translate ternary relationships into database tables and maintain their integrity.  \r\n",
                "\r\n",
                "#### Referential Integrity  \r\n",
                "- **Enforcing Relationships**: Master defining and managing relationships with foreign keys.  \r\n",
                "- **Cascading Actions**: Explore how cascading updates and deletions help maintain data consistency.  \r\n",
                "\r\n",
                "#### Using Advanced Constraints  \r\n",
                "- **Complex Check Constraints**: Learn to define more advanced conditions to validate data at the database level.  \r\n",
                "- **Default Values**: Understand how default values can streamline data entry and maintain consistency.  \r\n",
                "\r\n",
                "\r\n",
                "### Practical Scenarios and Challenges  \r\n",
                "\r\n",
                "This session includes hands-on exercises where you will:  \r\n",
                "- Transform multivalued attributes into relational models.  \r\n",
                "- Implement ternary relationships and ensure data integrity across all related tables.  \r\n",
                "- Apply advanced constraints to enhance data validity.  \r\n",
                "- Modify existing tables safely using ALTER TABLE and other DDL commands.  \r\n",
                "\r\n",
                "### What You Will Be Capable Of  \r\n",
                "\r\n",
                "After completing this part of the exercise, you will:  \r\n",
                "- Design and implement multivalued attributes and ternary relationships in relational databases.  \r\n",
                "- Use foreign keys and cascading actions to enforce referential integrity across complex relationships.  \r\n",
                "- Apply advanced constraints and default values to improve data quality and consistency.  \r\n",
                "- Safely evolve database schemas to accommodate changing requirements without compromising data integrity.  \r\n",
                "\r\n",
                "This continuation of the auditory exercise is designed to deepen your understanding of handling complex relational models and maintaining robust database structures. By mastering these advanced concepts, you’ll be equipped to tackle real-world database challenges with confidence.  \r\n",
                "\r\n",
                "Let’s dive deeper into the world of DDL and enhance your database design expertise!  \r\n",
                ""
            ],
            "metadata": {
                "language": "sql",
                "azdata_cell_guid": "0df67707-2ee4-4c97-b87c-aefdb69f01d1"
            },
            "attachments": {}
        },
        {
            "cell_type": "markdown",
            "source": [
                "# Problem 3"
            ],
            "metadata": {
                "language": "sql",
                "azdata_cell_guid": "89d66dbd-792d-44e1-bd70-d46f1cae06f3"
            },
            "attachments": {}
        },
        {
            "cell_type": "markdown",
            "source": [
                "Based on the provided ER diagram and the derived relationships, your task is to create all the corresponding relations as tables in a real-life database. Each table should be defined with the appropriate attributes, data types, and constraints to accurately represent the structure and rules of the given data model.\n",
                "\n",
                "![Market](.\\market.png)\n",
                "\n",
                "Create the tables for the following relations, and define the primary and foreign keys with the referential integrity constraints:\n",
                "\n",
                "- **Market** (<u>`Id`</u>, `name`, `address`, `city`, `rating`)\n",
                "- **Customer**(<u>`Id`</u>, `Username`, `Email`)\n",
                "- **Specialty** (<u>`Id`</u>, `name`, `type`)\n",
                "- **Sell**(<u>`marketId*`</u>, <u>`specialtyId*`</u>, `price`)\n",
                "- **Order** (<u>`Id`</u>, `marketId*`, `specialtyId*`, `customerId*`, `date`)\n",
                "- **DeliveryAddress** (<u>`orderId*`</u>, `address`)\n",
                "- **Product**(<u>`Id`</u>, `category`, `validity_date`, `production_date`)\n",
                "- **ComposedOf** (<u>`productId*`</u>, <u>`specialtyId*`</u>)\n",
                "\n",
                "### Guidelines for Table Creation\n",
                "\n",
                "#### **Primary Keys**\n",
                "\n",
                "- Ensure each table has a clearly defined primary key to uniquely identify records.\n",
                "    - Examples:\n",
                "        - `MARKET(Id)`\n",
                "        - `CUSTOMER(Id)`\n",
                "        - `SPECIALTY(Id)`\n",
                "        - `ORDER(Id)`\n",
                "\n",
                "#### **Foreign Keys**\n",
                "\n",
                "- Establish necessary foreign keys to maintain referential integrity:\n",
                "    - In **SELL**:\n",
                "        - `marketId*` should reference `Id` in **MARKET**.\n",
                "        - `specialtyId*` should reference `Id` in **SPECIALTY**.\n",
                "    - In **ORDER**:\n",
                "        - `marketId*` should reference `Id` in **MARKET**.\n",
                "        - `specialtyId*` should reference `Id` in **SPECIALTY**.\n",
                "        - `customerId*` should reference `Id` in **CUSTOMER**.\n",
                "    - In **DELIVERYADDRESS**:\n",
                "        - `orderId*` should reference `Id` in **ORDER**.\n",
                "    - In **COMPOSEDOF**:\n",
                "        - `productId*` should reference `Id` in **PRODUCT**.\n",
                "        - `specialtyId*` should reference `Id` in **SPECIALTY**.\n",
                "\n",
                "#### **Referential Integrity Constraints**\n",
                "\n",
                "- Implement appropriate constraints to enforce relationships:\n",
                "    - Use `ON DELETE CASCADE` where appropriate to maintain consistency when records are deleted.\n",
                "    - Use `ON UPDATE CASCADE` to propagate updates to dependent tables.\n",
                "\n",
                "#### **Benefits of Guidelines**\n",
                "\n",
                "- Ensure data accuracy and consistency across all tables.\n",
                "- Maintain referential integrity, enabling reliable data relationships.\n",
                "- Transform abstract data models into fully functional and robust database schemas.\n",
                "\n",
                "This task aims to bridge theoretical database design with practical implementation, ensuring a reliable and efficient database structure."
            ],
            "metadata": {
                "language": "sql",
                "azdata_cell_guid": "2ba37f25-7dcb-4538-bc84-1219e2b17646"
            },
            "attachments": {}
        },
        {
            "cell_type": "code",
            "source": [
                "/*\r\n",
                "    This script checks if a database named 'db_second_exercise' exists:\r\n",
                "    - If the database does NOT exist, it creates a new empty database.\r\n",
                "    - If the database DOES exist, it deletes all tables within the database by:\r\n",
                "        1. Dropping all foreign key constraints to handle dependencies.\r\n",
                "        2. Dropping all tables to make the database empty.\r\n",
                "*/\r\n",
                "\r\n",
                "-- Check if the database exists\r\n",
                "IF (SELECT COUNT(*) FROM sys.databases WHERE name = 'db_second_exercise') = 0\r\n",
                "BEGIN\r\n",
                "    -- Create the database if it doesn't exist\r\n",
                "    CREATE DATABASE db_second_exercise;\r\n",
                "    PRINT 'Database created: db_second_exercise';\r\n",
                "END\r\n",
                "ELSE\r\n",
                "BEGIN\r\n",
                "    PRINT 'Database already exists: db_second_exercise';\r\n",
                "END\r\n",
                "\r\n",
                "GO\r\n",
                "-- Use the database\r\n",
                "USE db_second_exercise;\r\n",
                "\r\n",
                "-- Step 1: Drop all foreign key constraints if any exist\r\n",
                "IF EXISTS (SELECT * FROM sys.foreign_keys)\r\n",
                "BEGIN\r\n",
                "    DECLARE @sql NVARCHAR(MAX);\r\n",
                "    SET @sql = '';\r\n",
                "\r\n",
                "    SELECT @sql = @sql + 'ALTER TABLE [' + OBJECT_NAME(parent_object_id) \r\n",
                "                 + '] DROP CONSTRAINT [' + name + '];' + CHAR(13)\r\n",
                "    FROM sys.foreign_keys;\r\n",
                "\r\n",
                "    EXEC sp_executesql @sql;\r\n",
                "    PRINT 'Foreign keys dropped';\r\n",
                "END\r\n",
                "ELSE\r\n",
                "BEGIN\r\n",
                "    PRINT 'No foreign keys to drop';\r\n",
                "END\r\n",
                "\r\n",
                "-- Step 2: Drop all tables if any exist\r\n",
                "IF EXISTS (SELECT * FROM sys.tables)\r\n",
                "BEGIN\r\n",
                "    SET @sql = '';\r\n",
                "\r\n",
                "    SELECT @sql = @sql + 'DROP TABLE [' + name + '];' + CHAR(13)\r\n",
                "    FROM sys.tables;\r\n",
                "\r\n",
                "    EXEC sp_executesql @sql;\r\n",
                "    PRINT 'Tables dropped';\r\n",
                "END\r\n",
                "ELSE\r\n",
                "BEGIN\r\n",
                "    PRINT 'No tables to drop';\r\n",
                "END\r\n",
                "\r\n",
                "\r\n",
                ""
            ],
            "metadata": {
                "azdata_cell_guid": "052bbe41-73e6-4f20-8716-920e6da77d41",
                "language": "sql",
                "tags": []
            },
            "outputs": [
                {
                    "output_type": "display_data",
                    "data": {
                        "text/html": "Database already exists: db_second_exercise"
                    },
                    "metadata": {}
                },
                {
                    "output_type": "display_data",
                    "data": {
                        "text/html": "Foreign keys dropped"
                    },
                    "metadata": {}
                },
                {
                    "output_type": "display_data",
                    "data": {
                        "text/html": "Tables dropped"
                    },
                    "metadata": {}
                },
                {
                    "output_type": "display_data",
                    "data": {
                        "text/html": "Total execution time: 00:00:00.396"
                    },
                    "metadata": {}
                }
            ],
            "execution_count": 20
        },
        {
            "cell_type": "code",
            "source": [
                "-- The USE statement switches the context to the 'db_exercises' database.\r\n",
                "-- After this command, all subsequent SQL operations will be executed within the 'db_exercises' database.\r\n",
                "\r\n",
                "use db_second_exercise;"
            ],
            "metadata": {
                "azdata_cell_guid": "48c36698-72a2-4cbf-955c-9e59814eff30",
                "language": "sql"
            },
            "outputs": [
                {
                    "output_type": "display_data",
                    "data": {
                        "text/html": "Commands completed successfully."
                    },
                    "metadata": {}
                },
                {
                    "output_type": "display_data",
                    "data": {
                        "text/html": "Total execution time: 00:00:00"
                    },
                    "metadata": {}
                }
            ],
            "execution_count": 21
        },
        {
            "cell_type": "markdown",
            "source": [
                "### Database Design Requirements\r\n",
                "\r\n",
                "To ensure the integrity and usability of the database system, the following requirements have been carefully considered and implemented in the schema design:\r\n",
                "\r\n",
                "1. **Order Creation Date Constraint**  \r\n",
                "   - The database enforces a rule that no orders can be created with a date earlier than **October 20, 2010**. This ensures that all order data reflects valid timelines, maintaining historical accuracy and preventing erroneous entries.\r\n",
                "\r\n",
                "2. **Delivery Address Format**  \r\n",
                "   - The delivery address must strictly follow a specific format, incorporating essential details in a structured way. Each address must include:  \r\n",
                "     - The **street name** at the beginning,  \r\n",
                "     - Followed by a **dash (\"-\")** and the **house number**,  \r\n",
                "     - Concluding with a **slash (\"/\")** and the **city name**.  \r\n",
                "   - For example, an address should be formatted as:  \r\n",
                "     `Partizanska-2/Skopje`.  \r\n",
                "     This standardization ensures clarity and consistency across all stored delivery information.\r\n",
                "\r\n",
                "3. **Username Length Restriction**  \r\n",
                "   - To ensure usability and avoid overly long identifiers, a **user's username** is restricted to a maximum length of **20 characters**. This aligns with common application requirements and improves user management efficiency.\r\n",
                "\r\n",
                "4. **Retention of Order Data upon User Deletion**  \r\n",
                "   - If a specific user is deleted from the database, the **orders associated with that user will remain stored**. The system will preserve the order data by setting the `customerId` field in the `Order` table to `NULL`. This approach ensures the database retains valuable transactional information while reflecting the absence of the associated user.\r\n",
                "\r\n",
                "5. **Cascading Deletion of Orders for Markets or Specialties**  \r\n",
                "   - If a **market** or a **specialty** is deleted, all orders linked to the deleted entity will be automatically removed. This is achieved through **cascading deletion rules** in the database, ensuring referential integrity by preventing orphaned records in the `Order` table.\r\n",
                "\r\n",
                "### Summary  \r\n",
                "These requirements are designed to uphold the quality, reliability, and consistency of the data within the system. By enforcing these rules, the database will support accurate data entry, prevent anomalies, and maintain a high standard of data integrity across all operations.\r\n",
                ""
            ],
            "metadata": {
                "language": "sql",
                "azdata_cell_guid": "696caa41-2daf-4414-b176-e1368e25bc66"
            },
            "attachments": {}
        },
        {
            "cell_type": "markdown",
            "source": [
                "## Creating the MARKET table"
            ],
            "metadata": {
                "azdata_cell_guid": "f3e68486-ab13-4e8b-8110-cf9ee6e226e0"
            },
            "attachments": {}
        },
        {
            "cell_type": "code",
            "source": [
                "-- Creating the MARKET table\r\n",
                "CREATE TABLE Market (\r\n",
                "    Id INT PRIMARY KEY,\r\n",
                "    name NVARCHAR(255) NOT NULL,\r\n",
                "    address NVARCHAR(255) NOT NULL,\r\n",
                "    city NVARCHAR(100) NOT NULL,\r\n",
                "    rating DECIMAL(3, 2) CHECK (rating BETWEEN 0 AND 5) -- Assuming rating is between 0 and 5\r\n",
                ");"
            ],
            "metadata": {
                "azdata_cell_guid": "c01a7a94-c399-4aa7-a5ef-d8915f3303ab",
                "language": "sql"
            },
            "outputs": [
                {
                    "output_type": "display_data",
                    "data": {
                        "text/html": "Commands completed successfully."
                    },
                    "metadata": {}
                },
                {
                    "output_type": "display_data",
                    "data": {
                        "text/html": "Total execution time: 00:00:00.004"
                    },
                    "metadata": {}
                }
            ],
            "execution_count": 22
        },
        {
            "cell_type": "code",
            "source": [
                "/*\r\n",
                "\r\n",
                "After creating the table, you can use the following statement to check its contents:\r\n",
                "SELECT * FROM dbo.Market;\r\n",
                "\r\n",
                "*/\r\n",
                "\r\n",
                "SELECT * FROM dbo.Market;"
            ],
            "metadata": {
                "azdata_cell_guid": "eb4affe0-de74-45ca-8d02-e4adb5561f45",
                "language": "sql"
            },
            "outputs": [
                {
                    "output_type": "display_data",
                    "data": {
                        "text/html": "(0 rows affected)"
                    },
                    "metadata": {}
                },
                {
                    "output_type": "display_data",
                    "data": {
                        "text/html": "Total execution time: 00:00:00.004"
                    },
                    "metadata": {}
                },
                {
                    "output_type": "execute_result",
                    "metadata": {},
                    "execution_count": 23,
                    "data": {
                        "application/vnd.dataresource+json": {
                            "schema": {
                                "fields": [
                                    {
                                        "name": "Id"
                                    },
                                    {
                                        "name": "name"
                                    },
                                    {
                                        "name": "address"
                                    },
                                    {
                                        "name": "city"
                                    },
                                    {
                                        "name": "rating"
                                    }
                                ]
                            },
                            "data": []
                        },
                        "text/html": [
                            "<table>",
                            "<tr><th>Id</th><th>name</th><th>address</th><th>city</th><th>rating</th></tr>",
                            "</table>"
                        ]
                    }
                }
            ],
            "execution_count": 23
        },
        {
            "cell_type": "markdown",
            "source": [
                "## Creating the CUSTOMER table"
            ],
            "metadata": {
                "language": "sql",
                "azdata_cell_guid": "f3c578ce-0396-4bf9-95fb-90fa5dc65895"
            },
            "attachments": {}
        },
        {
            "cell_type": "code",
            "source": [
                "-- Creating the CUSTOMER table\r\n",
                "CREATE TABLE Customer (\r\n",
                "    Id INT PRIMARY KEY,\r\n",
                "    Username NVARCHAR(20) NOT NULL UNIQUE, -- Username max length 20 characters\r\n",
                "    Email NVARCHAR(255) NOT NULL UNIQUE\r\n",
                ");"
            ],
            "metadata": {
                "language": "sql",
                "azdata_cell_guid": "5360b55a-b3bd-40d0-9a6f-c430ff71e9bc",
                "tags": []
            },
            "outputs": [
                {
                    "output_type": "display_data",
                    "data": {
                        "text/html": "Commands completed successfully."
                    },
                    "metadata": {}
                },
                {
                    "output_type": "display_data",
                    "data": {
                        "text/html": "Total execution time: 00:00:00.006"
                    },
                    "metadata": {}
                }
            ],
            "execution_count": 24
        },
        {
            "cell_type": "code",
            "source": [
                "/*\r\n",
                "\r\n",
                "After creating the table, you can use the following statement to check its contents:\r\n",
                "SELECT * FROM dbo.Customer;\r\n",
                "\r\n",
                "*/\r\n",
                "\r\n",
                "SELECT * FROM dbo.Customer;"
            ],
            "metadata": {
                "language": "sql",
                "azdata_cell_guid": "3cc31446-0588-48b7-9362-61bbe1734c60"
            },
            "outputs": [
                {
                    "output_type": "display_data",
                    "data": {
                        "text/html": "(0 rows affected)"
                    },
                    "metadata": {}
                },
                {
                    "output_type": "display_data",
                    "data": {
                        "text/html": "Total execution time: 00:00:00.009"
                    },
                    "metadata": {}
                },
                {
                    "output_type": "execute_result",
                    "metadata": {},
                    "execution_count": 25,
                    "data": {
                        "application/vnd.dataresource+json": {
                            "schema": {
                                "fields": [
                                    {
                                        "name": "Id"
                                    },
                                    {
                                        "name": "Username"
                                    },
                                    {
                                        "name": "Email"
                                    }
                                ]
                            },
                            "data": []
                        },
                        "text/html": [
                            "<table>",
                            "<tr><th>Id</th><th>Username</th><th>Email</th></tr>",
                            "</table>"
                        ]
                    }
                }
            ],
            "execution_count": 25
        },
        {
            "cell_type": "markdown",
            "source": [
                "## Creating the SPECIALTY table"
            ],
            "metadata": {
                "language": "sql",
                "azdata_cell_guid": "f87387c3-8556-4b49-adae-f57bb0177c62"
            },
            "attachments": {}
        },
        {
            "cell_type": "code",
            "source": [
                "-- Creating the SPECIALTY table\r\n",
                "CREATE TABLE Specialty (\r\n",
                "    Id INT PRIMARY KEY,\r\n",
                "    name NVARCHAR(255) NOT NULL,\r\n",
                "    type NVARCHAR(100) NOT NULL\r\n",
                ");"
            ],
            "metadata": {
                "language": "sql",
                "azdata_cell_guid": "ef65eab4-d608-4ca0-9fae-523ed482c6f6"
            },
            "outputs": [
                {
                    "output_type": "display_data",
                    "data": {
                        "text/html": "Commands completed successfully."
                    },
                    "metadata": {}
                },
                {
                    "output_type": "display_data",
                    "data": {
                        "text/html": "Total execution time: 00:00:00.004"
                    },
                    "metadata": {}
                }
            ],
            "execution_count": 26
        },
        {
            "cell_type": "code",
            "source": [
                "/*\r\n",
                "\r\n",
                "After creating the table, you can use the following statement to check its contents:\r\n",
                "SELECT * FROM dbo.Specialty;\r\n",
                "\r\n",
                "*/\r\n",
                "\r\n",
                "SELECT * FROM dbo.Specialty;"
            ],
            "metadata": {
                "language": "sql",
                "azdata_cell_guid": "c5096dc4-cfb6-4325-b32a-e35f59a486ac"
            },
            "outputs": [
                {
                    "output_type": "display_data",
                    "data": {
                        "text/html": "(0 rows affected)"
                    },
                    "metadata": {}
                },
                {
                    "output_type": "display_data",
                    "data": {
                        "text/html": "Total execution time: 00:00:00.002"
                    },
                    "metadata": {}
                },
                {
                    "output_type": "execute_result",
                    "metadata": {},
                    "execution_count": 27,
                    "data": {
                        "application/vnd.dataresource+json": {
                            "schema": {
                                "fields": [
                                    {
                                        "name": "Id"
                                    },
                                    {
                                        "name": "name"
                                    },
                                    {
                                        "name": "type"
                                    }
                                ]
                            },
                            "data": []
                        },
                        "text/html": [
                            "<table>",
                            "<tr><th>Id</th><th>name</th><th>type</th></tr>",
                            "</table>"
                        ]
                    }
                }
            ],
            "execution_count": 27
        },
        {
            "cell_type": "markdown",
            "source": [
                "## Creating the SELL table"
            ],
            "metadata": {
                "language": "sql",
                "azdata_cell_guid": "27e6d07f-6152-4587-a2cc-8d3a6494cd58"
            },
            "attachments": {}
        },
        {
            "cell_type": "code",
            "source": [
                "-- Creating the SELL table\r\n",
                "CREATE TABLE Sell (\r\n",
                "    marketId INT NOT NULL,\r\n",
                "    specialtyId INT NOT NULL,\r\n",
                "    price DECIMAL(10, 2) NOT NULL,\r\n",
                "    PRIMARY KEY (marketId, specialtyId),\r\n",
                "    FOREIGN KEY (marketId) REFERENCES Market(Id) ON DELETE CASCADE ON UPDATE CASCADE,\r\n",
                "    FOREIGN KEY (specialtyId) REFERENCES Specialty(Id) ON DELETE CASCADE ON UPDATE CASCADE\r\n",
                ");"
            ],
            "metadata": {
                "language": "sql",
                "azdata_cell_guid": "7553bd9c-b27e-47a1-8265-c958305b7b0e"
            },
            "outputs": [
                {
                    "output_type": "display_data",
                    "data": {
                        "text/html": "Commands completed successfully."
                    },
                    "metadata": {}
                },
                {
                    "output_type": "display_data",
                    "data": {
                        "text/html": "Total execution time: 00:00:00.005"
                    },
                    "metadata": {}
                }
            ],
            "execution_count": 28
        },
        {
            "cell_type": "code",
            "source": [
                "/*\r\n",
                "\r\n",
                "After creating the table, you can use the following statement to check its contents:\r\n",
                "SELECT * FROM dbo.Sell;\r\n",
                "\r\n",
                "*/\r\n",
                "\r\n",
                "SELECT * FROM dbo.Sell;"
            ],
            "metadata": {
                "language": "sql",
                "azdata_cell_guid": "05c1d8ee-3cfa-43c2-9d45-0559674b7f87"
            },
            "outputs": [
                {
                    "output_type": "display_data",
                    "data": {
                        "text/html": "(0 rows affected)"
                    },
                    "metadata": {}
                },
                {
                    "output_type": "display_data",
                    "data": {
                        "text/html": "Total execution time: 00:00:00.001"
                    },
                    "metadata": {}
                },
                {
                    "output_type": "execute_result",
                    "metadata": {},
                    "execution_count": 29,
                    "data": {
                        "application/vnd.dataresource+json": {
                            "schema": {
                                "fields": [
                                    {
                                        "name": "marketId"
                                    },
                                    {
                                        "name": "specialtyId"
                                    },
                                    {
                                        "name": "price"
                                    }
                                ]
                            },
                            "data": []
                        },
                        "text/html": [
                            "<table>",
                            "<tr><th>marketId</th><th>specialtyId</th><th>price</th></tr>",
                            "</table>"
                        ]
                    }
                }
            ],
            "execution_count": 29
        },
        {
            "cell_type": "markdown",
            "source": [
                "## Creating the ORDER table"
            ],
            "metadata": {
                "language": "sql",
                "azdata_cell_guid": "52e126cb-a395-4657-93fe-20eeb7a17e6e"
            },
            "attachments": {}
        },
        {
            "cell_type": "code",
            "source": [
                "-- Creating the ORDER table\r\n",
                "CREATE TABLE [Order] (\r\n",
                "    Id INT PRIMARY KEY,\r\n",
                "    marketId INT NOT NULL,\r\n",
                "    specialtyId INT NOT NULL,\r\n",
                "    customerId INT DEFAULT 0,\r\n",
                "    date DATETIME NOT NULL CHECK (date >= '2010-10-20'), -- Order creation date constraint\r\n",
                "    FOREIGN KEY (marketId) REFERENCES Market(Id) ON DELETE CASCADE ON UPDATE CASCADE,\r\n",
                "    FOREIGN KEY (specialtyId) REFERENCES Specialty(Id) ON DELETE CASCADE ON UPDATE CASCADE,\r\n",
                "    -- OPTION 1:\r\n",
                "    FOREIGN KEY (customerId) REFERENCES Customer(Id) ON DELETE SET DEFAULT ON UPDATE CASCADE -- Retain order information if customer is deleted\r\n",
                "\r\n",
                "    -- OPTION 2:\r\n",
                "    -- FOREIGN KEY (customerId) REFERENCES Customer(Id) ON DELETE SET NULL ON UPDATE CASCADE -- Retain order information if customer is deleted\r\n",
                ");"
            ],
            "metadata": {
                "language": "sql",
                "azdata_cell_guid": "57284e1a-63a1-475c-9087-2607ff30549f"
            },
            "outputs": [
                {
                    "output_type": "display_data",
                    "data": {
                        "text/html": "Commands completed successfully."
                    },
                    "metadata": {}
                },
                {
                    "output_type": "display_data",
                    "data": {
                        "text/html": "Total execution time: 00:00:00.006"
                    },
                    "metadata": {}
                }
            ],
            "execution_count": 30
        },
        {
            "cell_type": "code",
            "source": [
                "/*\r\n",
                "\r\n",
                "After creating the table, you can use the following statement to check its contents:\r\n",
                "SELECT * FROM dbo.[Order];\r\n",
                "\r\n",
                "*/\r\n",
                "\r\n",
                "SELECT * FROM dbo.[Order];"
            ],
            "metadata": {
                "language": "sql",
                "azdata_cell_guid": "1a0fa1f0-84b1-4db7-a3f1-1d2a88fda7ad"
            },
            "outputs": [
                {
                    "output_type": "display_data",
                    "data": {
                        "text/html": "(0 rows affected)"
                    },
                    "metadata": {}
                },
                {
                    "output_type": "display_data",
                    "data": {
                        "text/html": "Total execution time: 00:00:00.008"
                    },
                    "metadata": {}
                },
                {
                    "output_type": "execute_result",
                    "metadata": {},
                    "execution_count": 31,
                    "data": {
                        "application/vnd.dataresource+json": {
                            "schema": {
                                "fields": [
                                    {
                                        "name": "Id"
                                    },
                                    {
                                        "name": "marketId"
                                    },
                                    {
                                        "name": "specialtyId"
                                    },
                                    {
                                        "name": "customerId"
                                    },
                                    {
                                        "name": "date"
                                    }
                                ]
                            },
                            "data": []
                        },
                        "text/html": [
                            "<table>",
                            "<tr><th>Id</th><th>marketId</th><th>specialtyId</th><th>customerId</th><th>date</th></tr>",
                            "</table>"
                        ]
                    }
                }
            ],
            "execution_count": 31
        },
        {
            "cell_type": "markdown",
            "source": [
                "## Creating the DELIVERYADDRESS table"
            ],
            "metadata": {
                "language": "sql",
                "azdata_cell_guid": "7fd329d4-ce07-492c-aeb9-be0de1934cb6"
            },
            "attachments": {}
        },
        {
            "cell_type": "code",
            "source": [
                "-- Creating the DELIVERYADDRESS table\r\n",
                "CREATE TABLE DeliveryAddress (\r\n",
                "    orderId INT NOT NULL PRIMARY KEY,\r\n",
                "    address NVARCHAR(255) NOT NULL CHECK (address LIKE '%-%/%'), -- Enforcing address format\r\n",
                "    FOREIGN KEY (orderId) REFERENCES [Order](Id) ON DELETE CASCADE ON UPDATE CASCADE\r\n",
                ");"
            ],
            "metadata": {
                "language": "sql",
                "azdata_cell_guid": "3efba71a-c04c-41cd-83d1-0d1b40df6864"
            },
            "outputs": [
                {
                    "output_type": "display_data",
                    "data": {
                        "text/html": "Commands completed successfully."
                    },
                    "metadata": {}
                },
                {
                    "output_type": "display_data",
                    "data": {
                        "text/html": "Total execution time: 00:00:00.005"
                    },
                    "metadata": {}
                }
            ],
            "execution_count": 32
        },
        {
            "cell_type": "code",
            "source": [
                "/*\r\n",
                "\r\n",
                "After creating the table, you can use the following statement to check its contents:\r\n",
                "SELECT * FROM dbo.DeliveryAddress;\r\n",
                "\r\n",
                "*/\r\n",
                "\r\n",
                "SELECT * FROM dbo.DeliveryAddress;"
            ],
            "metadata": {
                "language": "sql",
                "azdata_cell_guid": "1c539524-fbe3-4f15-9092-f5c499126c7f"
            },
            "outputs": [
                {
                    "output_type": "display_data",
                    "data": {
                        "text/html": "(0 rows affected)"
                    },
                    "metadata": {}
                },
                {
                    "output_type": "display_data",
                    "data": {
                        "text/html": "Total execution time: 00:00:00.002"
                    },
                    "metadata": {}
                },
                {
                    "output_type": "execute_result",
                    "metadata": {},
                    "execution_count": 33,
                    "data": {
                        "application/vnd.dataresource+json": {
                            "schema": {
                                "fields": [
                                    {
                                        "name": "orderId"
                                    },
                                    {
                                        "name": "address"
                                    }
                                ]
                            },
                            "data": []
                        },
                        "text/html": [
                            "<table>",
                            "<tr><th>orderId</th><th>address</th></tr>",
                            "</table>"
                        ]
                    }
                }
            ],
            "execution_count": 33
        },
        {
            "cell_type": "markdown",
            "source": [
                "## Creating the PRODUCT table"
            ],
            "metadata": {
                "language": "sql",
                "azdata_cell_guid": "c29a6118-18f7-486d-ad25-6fff15eff25a"
            },
            "attachments": {}
        },
        {
            "cell_type": "code",
            "source": [
                "CREATE TABLE Product (\r\n",
                "    Id INT PRIMARY KEY,\r\n",
                "    category NVARCHAR(100) NOT NULL,\r\n",
                "    validity_date DATE NOT NULL,\r\n",
                "    production_date DATE NOT NULL\r\n",
                ");"
            ],
            "metadata": {
                "language": "sql",
                "azdata_cell_guid": "a8a91a2e-9218-4407-8ca8-4bef9dda0cdf",
                "tags": []
            },
            "outputs": [
                {
                    "output_type": "display_data",
                    "data": {
                        "text/html": "Commands completed successfully."
                    },
                    "metadata": {}
                },
                {
                    "output_type": "display_data",
                    "data": {
                        "text/html": "Total execution time: 00:00:00.003"
                    },
                    "metadata": {}
                }
            ],
            "execution_count": 34
        },
        {
            "cell_type": "code",
            "source": [
                "/*\r\n",
                "\r\n",
                "After creating the table, you can use the following statement to check its contents:\r\n",
                "SELECT * FROM dbo.Product;\r\n",
                "\r\n",
                "*/\r\n",
                "\r\n",
                "SELECT * FROM dbo.Product;"
            ],
            "metadata": {
                "language": "sql",
                "azdata_cell_guid": "f7a64e0a-1e3c-4ce9-b38f-664733b63ad1"
            },
            "outputs": [
                {
                    "output_type": "display_data",
                    "data": {
                        "text/html": "(0 rows affected)"
                    },
                    "metadata": {}
                },
                {
                    "output_type": "display_data",
                    "data": {
                        "text/html": "Total execution time: 00:00:00.002"
                    },
                    "metadata": {}
                },
                {
                    "output_type": "execute_result",
                    "metadata": {},
                    "execution_count": 35,
                    "data": {
                        "application/vnd.dataresource+json": {
                            "schema": {
                                "fields": [
                                    {
                                        "name": "Id"
                                    },
                                    {
                                        "name": "category"
                                    },
                                    {
                                        "name": "validity_date"
                                    },
                                    {
                                        "name": "production_date"
                                    }
                                ]
                            },
                            "data": []
                        },
                        "text/html": [
                            "<table>",
                            "<tr><th>Id</th><th>category</th><th>validity_date</th><th>production_date</th></tr>",
                            "</table>"
                        ]
                    }
                }
            ],
            "execution_count": 35
        },
        {
            "cell_type": "markdown",
            "source": [
                "## Creating the COMPOSEDOF table"
            ],
            "metadata": {
                "language": "sql",
                "azdata_cell_guid": "f584501f-28c5-4be5-9d9c-45127ff3404b"
            },
            "attachments": {}
        },
        {
            "cell_type": "code",
            "source": [
                "-- Creating the COMPOSEDOF table\r\n",
                "CREATE TABLE ComposedOf (\r\n",
                "    productId INT NOT NULL,\r\n",
                "    specialtyId INT NOT NULL,\r\n",
                "    PRIMARY KEY (productId, specialtyId),\r\n",
                "    FOREIGN KEY (productId) REFERENCES Product(Id) ON DELETE CASCADE ON UPDATE CASCADE,\r\n",
                "    FOREIGN KEY (specialtyId) REFERENCES Specialty(Id) ON DELETE CASCADE ON UPDATE CASCADE\r\n",
                ");"
            ],
            "metadata": {
                "language": "sql",
                "azdata_cell_guid": "97984cc1-86b6-4503-8fa4-84eb5f523396"
            },
            "outputs": [
                {
                    "output_type": "display_data",
                    "data": {
                        "text/html": "Commands completed successfully."
                    },
                    "metadata": {}
                },
                {
                    "output_type": "display_data",
                    "data": {
                        "text/html": "Total execution time: 00:00:00.004"
                    },
                    "metadata": {}
                }
            ],
            "execution_count": 36
        },
        {
            "cell_type": "code",
            "source": [
                "/*\r\n",
                "\r\n",
                "After creating the table, you can use the following statement to check its contents:\r\n",
                "SELECT * FROM dbo.ComposedOf;\r\n",
                "\r\n",
                "*/\r\n",
                "\r\n",
                "SELECT * FROM dbo.ComposedOf;"
            ],
            "metadata": {
                "language": "sql",
                "azdata_cell_guid": "fd89a53c-498c-4f95-9590-9882f9499225"
            },
            "outputs": [
                {
                    "output_type": "display_data",
                    "data": {
                        "text/html": "(0 rows affected)"
                    },
                    "metadata": {}
                },
                {
                    "output_type": "display_data",
                    "data": {
                        "text/html": "Total execution time: 00:00:00.002"
                    },
                    "metadata": {}
                },
                {
                    "output_type": "execute_result",
                    "metadata": {},
                    "execution_count": 37,
                    "data": {
                        "application/vnd.dataresource+json": {
                            "schema": {
                                "fields": [
                                    {
                                        "name": "productId"
                                    },
                                    {
                                        "name": "specialtyId"
                                    }
                                ]
                            },
                            "data": []
                        },
                        "text/html": [
                            "<table>",
                            "<tr><th>productId</th><th>specialtyId</th></tr>",
                            "</table>"
                        ]
                    }
                }
            ],
            "execution_count": 37
        }
    ]
}