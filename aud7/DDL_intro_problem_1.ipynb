{
    "metadata": {
        "kernelspec": {
            "name": "SQL",
            "display_name": "SQL",
            "language": "sql"
        },
        "language_info": {
            "name": "sql",
            "version": ""
        }
    },
    "nbformat_minor": 2,
    "nbformat": 4,
    "cells": [
        {
            "cell_type": "markdown",
            "source": [
                "# DDL Auditory Exercise\n",
                "\n",
                "Welcome to the auditory exercise on **Data Definition Language (DDL)**! In this session, we will explore the essential building blocks of relational database design and management. DDL is a crucial part of SQL that allows us to define, create, and manage database schema effectively. Understanding DDL expressions is a foundational skill for anyone looking to work with databases in real-world scenarios.\n",
                "\n",
                "## What You Will Learn\n",
                "\n",
                "By the end of this exercise, you will have a comprehensive understanding of:\n",
                "\n",
                "1. **Creating Tables from Given Relations**\n",
                "    \n",
                "    - Learn how to translate theoretical relational models into practical database tables using DDL statements.\n",
                "    - Gain hands-on experience in defining table structures in a real-life database environment.\n",
                "2. **Working with Constraints**\n",
                "    \n",
                "    - Understand the different types of constraints, such as primary keys, foreign keys, unique constraints, and check constraints.\n",
                "    - Learn how these constraints ensure data validity and consistency.\n",
                "3. **Using ALTER TABLE Statements**\n",
                "    \n",
                "    - Master how to modify existing tables using `ALTER TABLE` expressions, whether to add, modify, or drop columns and constraints.\n",
                "4. **Database Integrity and Maintenance**\n",
                "    \n",
                "    - Explore the concept of database integrity and the role of constraints in enforcing it.\n",
                "    - Learn how to maintain data accuracy, reliability, and consistency through integrity constraints.\n",
                "\n",
                "## What You Will Be Capable Of\n",
                "\n",
                "After completing the exercise, you will be able to:\n",
                "\n",
                "- Design and create tables that reflect real-world data relationships.\n",
                "- Implement and enforce constraints to ensure data integrity in a database.\n",
                "- Modify existing database schema safely and efficiently using `ALTER TABLE` statements.\n",
                "- Apply best practices to maintain database integrity and prevent data anomalies.\n",
                "\n",
                "This exercise is designed to equip you with practical skills and theoretical knowledge that you can directly apply in database management tasks, whether for academic projects or real-world applications. Let's dive into the world of DDL and start building robust database structures!"
            ],
            "metadata": {
                "language": "sql",
                "azdata_cell_guid": "412521b7-82fd-4e9b-acb6-72c7b49f0c1b"
            },
            "attachments": {}
        },
        {
            "cell_type": "markdown",
            "source": [
                "# Data Types in Microsoft SQL Server and SQLite\r\n",
                "\r\n",
                "## Microsoft SQL Server Data Types\r\n",
                "\r\n",
                "### Numeric Data Types\r\n",
                "- **INT**: Integer, 4 bytes, range: -2,147,483,648 to 2,147,483,647.\r\n",
                "- **BIGINT**: Large integer, 8 bytes, range: -9,223,372,036,854,775,808 to 9,223,372,036,854,775,807.\r\n",
                "- **SMALLINT**: Small integer, 2 bytes, range: -32,768 to 32,767.\r\n",
                "- **TINYINT**: Tiny integer, 1 byte, range: 0 to 255.\r\n",
                "- **DECIMAL(p, s)** or **NUMERIC(p, s)**: Fixed precision and scale.\r\n",
                "- **FLOAT(n)**: Approximate number with floating precision.\r\n",
                "- **REAL**: Approximate number, 4 bytes.\r\n",
                "\r\n",
                "### String Data Types\r\n",
                "- **CHAR(n)**: Fixed-length character data.\r\n",
                "- **VARCHAR(n)**: Variable-length character data.\r\n",
                "- **TEXT**: Variable-length text data, limited to 2 GB.\r\n",
                "- **NCHAR(n)**: Fixed-length Unicode character data.\r\n",
                "- **NVARCHAR(n)**: Variable-length Unicode character data.\r\n",
                "- **NTEXT**: Variable-length Unicode text data (deprecated).\r\n",
                "\r\n",
                "### Date and Time Data Types\r\n",
                "- **DATE**: Date only, format: `YYYY-MM-DD`.\r\n",
                "- **DATETIME**: Date and time, range: `1753-01-01` to `9999-12-31`.\r\n",
                "- **SMALLDATETIME**: Date and time, range: `1900-01-01` to `2079-06-06`.\r\n",
                "- **TIME**: Time only.\r\n",
                "- **DATETIME2**: Date and time with larger range and precision.\r\n",
                "- **DATETIMEOFFSET**: Date and time with time zone offset.\r\n",
                "\r\n",
                "### Binary Data Types\r\n",
                "- **BINARY(n)**: Fixed-length binary data.\r\n",
                "- **VARBINARY(n)**: Variable-length binary data.\r\n",
                "- **IMAGE**: Variable-length binary data, limited to 2 GB (deprecated).\r\n",
                "\r\n",
                "### Other Data Types\r\n",
                "- **BIT**: Boolean data type, 0 (false) or 1 (true).\r\n",
                "- **UNIQUEIDENTIFIER**: Globally unique identifier (GUID).\r\n",
                "- **XML**: XML data.\r\n",
                "- **JSON**: JSON data type (via `NVARCHAR` for structured data).\r\n",
                "- **SQL_VARIANT**: Stores values of various data types.\r\n",
                "- **HIERARCHYID**: Represents a position in a hierarchy.\r\n",
                "- **GEOGRAPHY**/**GEOMETRY**: Spatial data types.\r\n",
                "\r\n",
                "---\r\n",
                "\r\n",
                "## SQLite Data Types\r\n",
                "\r\n",
                "SQLite uses a dynamic typing system with storage classes rather than fixed data types. The main storage classes are:\r\n",
                "\r\n",
                "### Numeric Data Types\r\n",
                "- **INTEGER**: Whole numbers (1, 2, 4, 8 bytes depending on size).\r\n",
                "- **REAL**: Floating-point numbers, 8 bytes.\r\n",
                "\r\n",
                "### Text Data Types\r\n",
                "- **TEXT**: Variable-length string data, stored as UTF-8, UTF-16BE, or UTF-16LE.\r\n",
                "\r\n",
                "### Blob Data Type\r\n",
                "- **BLOB**: Binary Large Object, used for binary data.\r\n",
                "\r\n",
                "### Null\r\n",
                "- **NULL**: Represents missing or undefined values.\r\n",
                "\r\n",
                "### Aliases (Mapped to Storage Classes)\r\n",
                "SQLite allows custom type names that map to its storage classes:\r\n",
                "- **BOOLEAN**: Mapped to `INTEGER` (0 = false, 1 = true).\r\n",
                "- **VARCHAR(n)**: Mapped to `TEXT`.\r\n",
                "- **CHAR(n)**: Mapped to `TEXT`.\r\n",
                "- **NUMERIC**: Mapped to `REAL` or `INTEGER` depending on value.\r\n",
                "- **DATE**/**DATETIME**: Stored as `TEXT`, `REAL`, or `INTEGER` depending on format.\r\n",
                "\r\n",
                "---\r\n",
                "\r\n",
                "## Comparison Notes\r\n",
                "- **SQL Server** has a rich set of predefined data types, including specialized ones like `GEOGRAPHY`, `UNIQUEIDENTIFIER`, and `DATETIMEOFFSET`.\r\n",
                "- **SQLite** uses a more flexible, dynamic typing system with a small set of core storage classes.\r\n",
                "- In SQLite, the declared type is more of a hint, and data can still be stored in a different format based on its value.\r\n",
                "\r\n",
                "Refer to the official documentation of each database for detailed usage and limitations of these data types.\r\n",
                ""
            ],
            "metadata": {
                "azdata_cell_guid": "78b301f4-18d0-459b-904c-8065dea0a057"
            },
            "attachments": {}
        },
        {
            "cell_type": "markdown",
            "source": [
                "# Problem 1"
            ],
            "metadata": {
                "language": "sql",
                "azdata_cell_guid": "89d66dbd-792d-44e1-bd70-d46f1cae06f3"
            },
            "attachments": {}
        },
        {
            "cell_type": "markdown",
            "source": [
                "## Problem 1: Creating Tables from an ER Diagram\n",
                "\n",
                "Based on the provided ER diagram and the derived relationships, your task is to create all the corresponding relations as tables in a real-life database. Each table should be defined with the appropriate attributes, data types, and constraints to accurately represent the structure and rules of the given data model.\n",
                "\n",
                "![Products_ER](.\\products.png)\n",
                "\n",
                "Create the tables for the following relations, and define the primary and foreign keys with the referential integrity constraints:\n",
                "\n",
                "- **SUPPLIER** (<u>`Scode`</u>, `name`, `balance`, `city`)\n",
                "- **PRODUCT** (<u>`Pcode`</u>, <u>`TypeCode`</u>, `name`, `color`, `weight`, `city`)\n",
                "- **OFFERS** (<u>`Scode*`</u>, <u>`Pcode*`</u>, <u>`TypeCode*`</u>, `quantityOrdered`, `order_date`, `quantityDelivered`, `delivery_date`)\n",
                "\n",
                "### Guidelines for Table Creation\n",
                "\n",
                "1. **Primary Keys**: Ensure each table has a primary key defined to uniquely identify records.\n",
                "2. **Foreign Keys**: Establish the necessary foreign keys in the `OFFERS` table to reference the `SUPPLIERS` and `PRODUCTS` tables, maintaining referential integrity.\n",
                "    - `Scode*` should reference `Scode` in `SUPPLIERS`.\n",
                "    - `Pcode*` and `TypeCode*` should reference `Pcode` and `TypeCode` in `PRODUCTS`.\n",
                "3. **Referential Integrity Constraints**: Implement appropriate constraints to enforce the relationships between tables.\n",
                "\n",
                "This task will help you apply theoretical database design principles to a practical scenario, transforming abstract data models into a fully functional database schema."
            ],
            "metadata": {
                "language": "sql",
                "azdata_cell_guid": "a70a614d-2027-4a2c-b434-d82a994d1add"
            },
            "attachments": {}
        },
        {
            "cell_type": "code",
            "source": [
                "/*\r\n",
                "    This script checks if a database named 'db_first_exercise' exists:\r\n",
                "    - If the database does NOT exist, it creates a new empty database.\r\n",
                "    - If the database DOES exist, it deletes all tables within the database by:\r\n",
                "        1. Dropping all foreign key constraints to handle dependencies.\r\n",
                "        2. Dropping all tables to make the database empty.\r\n",
                "*/\r\n",
                "\r\n",
                "-- Check if the database exists\r\n",
                "IF (SELECT COUNT(*) FROM sys.databases WHERE name = 'db_first_exercise') = 0\r\n",
                "BEGIN\r\n",
                "    -- Create the database if it doesn't exist\r\n",
                "    CREATE DATABASE db_first_exercise;\r\n",
                "    PRINT 'Database created: db_first_exercise';\r\n",
                "END\r\n",
                "ELSE\r\n",
                "BEGIN\r\n",
                "    PRINT 'Database already exists: db_first_exercise';\r\n",
                "END\r\n",
                "\r\n",
                "GO\r\n",
                "-- Use the database\r\n",
                "USE db_first_exercise;\r\n",
                "\r\n",
                "-- Step 1: Drop all foreign key constraints if any exist\r\n",
                "IF EXISTS (SELECT * FROM sys.foreign_keys)\r\n",
                "BEGIN\r\n",
                "    DECLARE @sql NVARCHAR(MAX);\r\n",
                "    SET @sql = '';\r\n",
                "\r\n",
                "    SELECT @sql = @sql + 'ALTER TABLE [' + OBJECT_NAME(parent_object_id) \r\n",
                "                 + '] DROP CONSTRAINT [' + name + '];' + CHAR(13)\r\n",
                "    FROM sys.foreign_keys;\r\n",
                "\r\n",
                "    EXEC sp_executesql @sql;\r\n",
                "    PRINT 'Foreign keys dropped';\r\n",
                "END\r\n",
                "ELSE\r\n",
                "BEGIN\r\n",
                "    PRINT 'No foreign keys to drop';\r\n",
                "END\r\n",
                "\r\n",
                "-- Step 2: Drop all tables if any exist\r\n",
                "IF EXISTS (SELECT * FROM sys.tables)\r\n",
                "BEGIN\r\n",
                "    SET @sql = '';\r\n",
                "\r\n",
                "    SELECT @sql = @sql + 'DROP TABLE [' + name + '];' + CHAR(13)\r\n",
                "    FROM sys.tables;\r\n",
                "\r\n",
                "    EXEC sp_executesql @sql;\r\n",
                "    PRINT 'Tables dropped';\r\n",
                "END\r\n",
                "ELSE\r\n",
                "BEGIN\r\n",
                "    PRINT 'No tables to drop';\r\n",
                "END\r\n",
                "\r\n",
                "\r\n",
                ""
            ],
            "metadata": {
                "language": "sql",
                "azdata_cell_guid": "b75a3df8-dccc-4644-a767-f0633090b60f"
            },
            "outputs": [
                {
                    "output_type": "display_data",
                    "data": {
                        "text/html": "Commands completed successfully."
                    },
                    "metadata": {}
                },
                {
                    "output_type": "display_data",
                    "data": {
                        "text/html": "Total execution time: 00:00:00.167"
                    },
                    "metadata": {}
                }
            ],
            "execution_count": 2
        },
        {
            "cell_type": "code",
            "source": [
                "-- The USE statement switches the context to the 'db_exercises' database.\r\n",
                "-- After this command, all subsequent SQL operations will be executed within the 'db_exercises' database.\r\n",
                "\r\n",
                "use db_first_exercise;"
            ],
            "metadata": {
                "language": "sql",
                "azdata_cell_guid": "b0122b14-b157-4735-bf5b-60bc7ce540d5"
            },
            "outputs": [
                {
                    "output_type": "display_data",
                    "data": {
                        "text/html": "Commands completed successfully."
                    },
                    "metadata": {}
                },
                {
                    "output_type": "display_data",
                    "data": {
                        "text/html": "Total execution time: 00:00:00.003"
                    },
                    "metadata": {}
                }
            ],
            "execution_count": 2
        },
        {
            "cell_type": "markdown",
            "source": [
                "## Task: Create a Table for Supplier Information\r\n",
                "\r\n",
                "Create a table named `Supplier` with the following columns:\r\n",
                "\r\n",
                "1. `Scode`: An integer column that serves as the primary key, ensuring each supplier has a unique identifier.\r\n",
                "2. `Name`: A variable-length string column (`VARCHAR`) with a maximum length of 50 characters to store the supplier's name.\r\n",
                "3. `Balance`: A decimal column to represent the supplier's financial balance.\r\n",
                "4. `City`: A variable-length string column (`VARCHAR`) with a maximum length of 50 characters to specify the city where the supplier is located.\r\n",
                "\r\n",
                "Ensure the table design meets the requirements, particularly the uniqueness of the `Scode` column as the primary key.\r\n",
                ""
            ],
            "metadata": {
                "language": "sql",
                "azdata_cell_guid": "786d0084-44af-4072-9181-438ba9a1eea6"
            },
            "attachments": {}
        },
        {
            "cell_type": "code",
            "source": [
                "-- SQL for creating table named Supplier with all necessary attributes\r\n",
                "\r\n",
                "/*\r\n",
                "\r\n",
                "Square brackets are used because 'Name' is a reserved keyword in SQL Server.\r\n",
                "Using brackets ensures that the database interprets 'Name' as a column name,\r\n",
                "not as the reserved keyword.\r\n",
                "\r\n",
                "*/\r\n",
                "\r\n",
                "CREATE TABLE Supplier(\r\n",
                "    Scode INT PRIMARY KEY,\r\n",
                "    [Name] VARCHAR(50),\r\n",
                "    Balance DECIMAL,\r\n",
                "    City VARCHAR(50)\r\n",
                ");"
            ],
            "metadata": {
                "language": "sql",
                "azdata_cell_guid": "35fd8a53-106e-48e8-99ab-1e5a7682b9c8",
                "tags": []
            },
            "outputs": [
                {
                    "output_type": "display_data",
                    "data": {
                        "text/html": "Commands completed successfully."
                    },
                    "metadata": {}
                },
                {
                    "output_type": "display_data",
                    "data": {
                        "text/html": "Total execution time: 00:00:00.024"
                    },
                    "metadata": {}
                }
            ],
            "execution_count": 38
        },
        {
            "cell_type": "code",
            "source": [
                "/*\r\n",
                "After creating the table, you can use the following statement to check its contents:\r\n",
                "SELECT * FROM dbo.Supplier;\r\n",
                "\r\n",
                "Explanation of each part of the statement:\r\n",
                "1. SELECT: Specifies that you want to retrieve data from a table.\r\n",
                "2. *: A wildcard that means \"all columns,\" instructing the query to return every column in the table.\r\n",
                "3. FROM: Indicates the source table from which to retrieve the data.\r\n",
                "4. dbo.Supplier: The fully qualified name of the table, where:\r\n",
                "   - 'dbo' is the schema (a namespace for organizing database objects).\r\n",
                "   - 'Supplier' is the name of the table being queried.\r\n",
                "\r\n",
                "This statement fetches all rows and columns from the 'Supplier' table, allowing you to verify its contents\r\n",
                "after creation or during debugging.\r\n",
                "*/\r\n",
                "\r\n",
                "\r\n",
                "SELECT * FROM dbo.Supplier;"
            ],
            "metadata": {
                "language": "sql",
                "azdata_cell_guid": "4e719e1d-e4cb-4d48-b296-fe25fd7035ff"
            },
            "outputs": [
                {
                    "output_type": "display_data",
                    "data": {
                        "text/html": "(0 rows affected)"
                    },
                    "metadata": {}
                },
                {
                    "output_type": "display_data",
                    "data": {
                        "text/html": "Total execution time: 00:00:00.006"
                    },
                    "metadata": {}
                },
                {
                    "output_type": "execute_result",
                    "execution_count": 39,
                    "data": {
                        "application/vnd.dataresource+json": {
                            "schema": {
                                "fields": [
                                    {
                                        "name": "Scode"
                                    },
                                    {
                                        "name": "Name"
                                    },
                                    {
                                        "name": "Balance"
                                    },
                                    {
                                        "name": "City"
                                    }
                                ]
                            },
                            "data": []
                        },
                        "text/html": "<table><tr><th>Scode</th><th>Name</th><th>Balance</th><th>City</th></tr></table>"
                    },
                    "metadata": {}
                }
            ],
            "execution_count": 39
        },
        {
            "cell_type": "markdown",
            "source": [
                "## Task: Create a Table for Product Information\r\n",
                "\r\n",
                "Create a table named `Product` with the following columns and constraints:\r\n",
                "\r\n",
                "1. **Pcode**: An integer column that serves as part of the composite primary key, uniquely identifying each product in combination with `TypeCode`.\r\n",
                "2. **TypeCode**: An integer column that categorizes the product type and is the second part of the composite primary key.\r\n",
                "3. **Name**: A variable-length string column (`VARCHAR`) with a maximum length of 50 characters to store the product's name.\r\n",
                "4. **Color**: A variable-length string column (`VARCHAR`) with a maximum length of 50 characters to specify the product's color.\r\n",
                "5. **Weight**: A variable-length string column (`VARCHAR`) with a maximum length of 50 characters to represent the product's weight.\r\n",
                "6. **City**: A variable-length string column (`VARCHAR`) with a maximum length of 30 characters to indicate the city associated with the product.\r\n",
                "\r\n",
                "### Table Constraints:\r\n",
                "- **Composite Primary Key**:\r\n",
                "  - The primary key for this table is a combination of two columns: `Pcode` and `TypeCode`.\r\n",
                "  - This ensures that each product in the table is uniquely identified by the combination of these two values.\r\n",
                "  - For example:\r\n",
                "    - If `Pcode = 1` and `TypeCode = 10` is a valid row, no other row can have the same `Pcode` and `TypeCode` combination.\r\n",
                "    - However, it is possible for `Pcode = 1` to appear with a different `TypeCode`, or for `TypeCode = 10` to appear with a different `Pcode`.\r\n",
                "\r\n",
                "### Key Points About the Composite Key:\r\n",
                "- A **composite key** is a primary key that consists of two or more columns.\r\n",
                "- It ensures that the combination of these columns is unique across all rows in the table.\r\n",
                "- Using a composite key is helpful when a single column alone cannot uniquely identify a record, but a combination of columns can.\r\n",
                "- This design enforces both uniqueness and a logical relationship between the two columns (`Pcode` and `TypeCode`) that define the product.\r\n",
                "\r\n",
                "Ensure the table design meets the requirements, particularly the enforcement of the composite primary key constraint to maintain data integrity and uniqueness.\r\n",
                ""
            ],
            "metadata": {
                "language": "sql",
                "azdata_cell_guid": "bc63b196-081e-4082-a5ce-bc33ebf48181"
            },
            "attachments": {}
        },
        {
            "cell_type": "code",
            "source": [
                "-- SQL for creating table named Product with all necessary attributes\r\n",
                "\r\n",
                "/*\r\n",
                "\r\n",
                "In this table definition, square brackets ([]) are used around the column names 'Name' and 'Weight'.\r\n",
                "This is because 'Name' and 'Weight' are reserved keywords in SQL Server. Reserved keywords are words that \r\n",
                "have a special meaning in SQL and are used by the system to perform certain actions. \r\n",
                "\r\n",
                "*/\r\n",
                "\r\n",
                "CREATE TABLE Product(\r\n",
                "    Pcode INT,\r\n",
                "    TypeCode INT, \r\n",
                "    [Name] VARCHAR(50),\r\n",
                "    Color VARCHAR(50),\r\n",
                "    [Weight] VARCHAR(50),\r\n",
                "    City VARCHAR(30),\r\n",
                "    CONSTRAINT pk_pcode_typecode_constraint PRIMARY KEY(Pcode, TypeCode)\r\n",
                ");\r\n",
                ""
            ],
            "metadata": {
                "language": "sql",
                "azdata_cell_guid": "d186ca93-d20d-40aa-97ee-897a8ab1e5fc",
                "tags": []
            },
            "outputs": [
                {
                    "output_type": "display_data",
                    "data": {
                        "text/html": "Commands completed successfully."
                    },
                    "metadata": {}
                },
                {
                    "output_type": "display_data",
                    "data": {
                        "text/html": "Total execution time: 00:00:00.023"
                    },
                    "metadata": {}
                }
            ],
            "execution_count": 40
        },
        {
            "cell_type": "code",
            "source": [
                "/*\r\n",
                "\r\n",
                "After creating the table, you can use the following statement to check its contents:\r\n",
                "SELECT * FROM dbo.Supplier;\r\n",
                "\r\n",
                "*/\r\n",
                "\r\n",
                "SELECT * FROM dbo.Product;"
            ],
            "metadata": {
                "language": "sql",
                "azdata_cell_guid": "d1feeb08-7a2b-4773-946b-030a3ec7c8c8"
            },
            "outputs": [
                {
                    "output_type": "display_data",
                    "data": {
                        "text/html": "(0 rows affected)"
                    },
                    "metadata": {}
                },
                {
                    "output_type": "display_data",
                    "data": {
                        "text/html": "Total execution time: 00:00:00.004"
                    },
                    "metadata": {}
                },
                {
                    "output_type": "execute_result",
                    "execution_count": 41,
                    "data": {
                        "application/vnd.dataresource+json": {
                            "schema": {
                                "fields": [
                                    {
                                        "name": "Pcode"
                                    },
                                    {
                                        "name": "TypeCode"
                                    },
                                    {
                                        "name": "Name"
                                    },
                                    {
                                        "name": "Color"
                                    },
                                    {
                                        "name": "Weight"
                                    },
                                    {
                                        "name": "City"
                                    }
                                ]
                            },
                            "data": []
                        },
                        "text/html": "<table><tr><th>Pcode</th><th>TypeCode</th><th>Name</th><th>Color</th><th>Weight</th><th>City</th></tr></table>"
                    },
                    "metadata": {}
                }
            ],
            "execution_count": 41
        },
        {
            "cell_type": "markdown",
            "source": [
                "## Task: Create a Table for Offers Information\n",
                "\n",
                "Create a table named `Offers` with the following columns and constraints:\n",
                "\n",
                "1. **Scode**: An integer column that represents the supplier's unique identifier, with a default value of `0`. This is part of the composite primary key.\n",
                "2. **Pcode**: An integer column that represents the product's unique identifier, part of the composite primary key, along with `TypeCode`.\n",
                "3. **TypeCode**: An integer column that categorizes the product type and is part of the composite primary key.\n",
                "4. **quantityOrdered**: An integer column that stores the quantity of the product ordered by the supplier.\n",
                "5. **dateOrder**: A `DATETIME` column to store the date when the order was placed.\n",
                "6. **quantityDelivered**: An integer column that represents the quantity of the product delivered to the supplier.\n",
                "7. **dateDelivered**: A `DATETIME` column to record the date when the product was delivered.\n",
                "\n",
                "### Table Constraints:\n",
                "\n",
                "- **Composite Primary Key**: The primary key for the `Offers` table is a combination of three columns: `Scode`, `Pcode`, and `TypeCode`. This ensures that each offer is uniquely identified by the combination of these three values. For example, no two rows can have the same `Scode`, `Pcode`, and `TypeCode` combination, ensuring uniqueness.\n",
                "    \n",
                "- **Foreign Key Constraints**:\n",
                "    \n",
                "    - A foreign key constraint is applied on the `Scode` column, referencing the `Scode` column in the `Supplier` table. This establishes a relationship between the `Offers` table and the `Supplier` table, ensuring that the `Scode` in the `Offers` table must exist in the `Supplier` table.\n",
                "    - A foreign key constraint is applied on the combination of `Pcode` and `TypeCode`, referencing the `Pcode` and `TypeCode` columns in the `Product` table. This establishes a relationship between the `Offers` table and the `Product` table, ensuring that the combination of `Pcode` and `TypeCode` in the `Offers` table must exist in the `Product` table.\n",
                "\n",
                "### Key Points About the Table Design:\n",
                "\n",
                "- **Many-to-Many Relationship**: This table represents a many-to-many relationship between the `Supplier` and `Product` tables. A single supplier can offer multiple products, and a product can be offered by multiple suppliers. The composite primary key (`Scode`, `Pcode`, `TypeCode`) ensures that each unique combination of supplier and product is represented as a separate row in the table.\n",
                "- **Enforcement of Data Integrity**: The foreign key constraints ensure that only valid `Scode` and `Pcode, TypeCode` values can be inserted into the `Offers` table. This maintains referential integrity between the `Offers`, `Supplier`, and `Product` tables.\n",
                "\n",
                "Ensure the table design meets the requirements, particularly the enforcement of the composite primary key constraint and the foreign key constraints to maintain data integrity and uniqueness."
            ],
            "metadata": {
                "language": "sql",
                "azdata_cell_guid": "f5093249-7be8-4233-a301-02ae14bef1a1"
            },
            "attachments": {}
        },
        {
            "cell_type": "code",
            "source": [
                "-- SQL for creating table named Offers with all necessary attributes\r\n",
                "\r\n",
                "CREATE TABLE Offers(\r\n",
                "    -- The column 'Scode' is an integer, and it has a default value of 0.\r\n",
                "    -- The 'DEFAULT 0' means that if no value is provided for the 'Scode' column when inserting data, the value will automatically be set to 0.\r\n",
                "    -- In this case, 0 represents a default supplier ID in the table, acting as a placeholder or a special entry to represent a supplier when no specific supplier is involved.\r\n",
                "    -- The default value of 0 ensures that an 'Offers' record is always linked to a supplier, even if no specific 'Scode' is provided.\r\n",
                "    -- IMPORTANT: The record with 'Scode' = 0 should **always exist** in the 'Supplier' table to represent the default supplier. \r\n",
                "    -- If the record with 'Scode' = 0 does not exist in the 'Supplier' table, any references to this ID in the 'Offers' table will result in a foreign key constraint violation.\r\n",
                "    Scode INT DEFAULT 0, \r\n",
                "    \r\n",
                "    Pcode INT, \r\n",
                "    TypeCode INT,\r\n",
                "    quantityOrdered INT, \r\n",
                "    dateOrder DATETIME,\r\n",
                "    quantityDelivered INT,\r\n",
                "    dateDelivered DATETIME,\r\n",
                "\r\n",
                "    -- Primary key constraint to ensure that each combination of Scode, Pcode, and TypeCode is unique.\r\n",
                "    CONSTRAINT pk_offers PRIMARY KEY(Scode, Pcode, TypeCode),\r\n",
                "    \r\n",
                "    -- Foreign key constraint linking Scode to the Supplier table to ensure referential integrity.\r\n",
                "    CONSTRAINT fk_supplier FOREIGN KEY (Scode) REFERENCES dbo.Supplier(Scode),\r\n",
                "    \r\n",
                "    -- Foreign key constraint linking Pcode and TypeCode to the Product table to ensure referential integrity.\r\n",
                "    CONSTRAINT fk_product FOREIGN KEY (Pcode, TypeCode) REFERENCES dbo.Product(Pcode, TypeCode)\r\n",
                ");\r\n",
                "\r\n",
                ""
            ],
            "metadata": {
                "language": "sql",
                "azdata_cell_guid": "2010dee1-3963-4ac9-abac-71b34da58cf1"
            },
            "outputs": [
                {
                    "output_type": "display_data",
                    "data": {
                        "text/html": "Commands completed successfully."
                    },
                    "metadata": {}
                },
                {
                    "output_type": "display_data",
                    "data": {
                        "text/html": "Total execution time: 00:00:00.009"
                    },
                    "metadata": {}
                }
            ],
            "execution_count": 42
        },
        {
            "cell_type": "code",
            "source": [
                "/*\r\n",
                "\r\n",
                "After creating the table, you can use the following statement to check its contents:\r\n",
                "SELECT * FROM dbo.Offers;\r\n",
                "\r\n",
                "*/\r\n",
                "\r\n",
                "SELECT * FROM dbo.Offers;"
            ],
            "metadata": {
                "language": "sql",
                "azdata_cell_guid": "86c1638b-7e43-4b59-8e0b-c08aa10abe58"
            },
            "outputs": [],
            "execution_count": null
        },
        {
            "cell_type": "code",
            "source": [
                "-- delete tables if necessary\r\n",
                "-- drop table if EXISTS dbo.offers\r\n",
                "-- GO\r\n",
                "-- drop table if EXISTS dbo.products\r\n",
                "-- GO\r\n",
                "-- drop table if exists dbo.suppliers\r\n",
                ""
            ],
            "metadata": {
                "language": "sql",
                "azdata_cell_guid": "101c5b6a-b1c8-469c-8401-c9a947e23b63"
            },
            "outputs": [],
            "execution_count": null
        },
        {
            "cell_type": "markdown",
            "source": [
                "## Inserting Data into the Table\r\n",
                "\r\n",
                "Inserting data into a table in SQL can be done in two primary ways: inserting a **single row** or performing a **bulk insert**. Both methods allow you to add data to the table, but they are used in different scenarios based on the amount of data being inserted.\r\n",
                "\r\n",
                "### 1. Inserting a Single Row\r\n",
                "\r\n",
                "This method is used when you need to insert one row of data at a time into a table. It's typically used for inserting individual records.\r\n",
                "\r\n",
                "**Syntax:**\r\n",
                "\r\n",
                "```sql\r\n",
                "INSERT INTO table_name (column1, column2, column3, ...)\r\n",
                "VALUES (value1, value2, value3, ...);\r\n",
                "```\r\n",
                "### 2. Bulk Insert\r\n",
                "\r\n",
                "When you need to insert multiple rows of data into a table at once, you can use the bulk insert method. This method is more efficient for adding large volumes of data compared to inserting rows one at a time.\r\n",
                "\r\n",
                "**Syntax:**\r\n",
                "\r\n",
                "```sql\r\n",
                "INSERT INTO table_name (column1, column2, column3, ...)\r\n",
                "VALUES \r\n",
                "    (value1_row1, value2_row1, value3_row1, ...),\r\n",
                "    (value1_row2, value2_row2, value3_row2, ...),\r\n",
                "    (value1_row3, value2_row3, value3_row3, ...);\r\n",
                "```\r\n",
                "\r\n",
                "## Key Differences\r\n",
                "\r\n",
                "- **Single Row Insert**: Typically used when adding one record at a time, making it useful for small data operations.\r\n",
                "- **Bulk Insert**: Efficient for inserting multiple rows of data at once, reducing the overhead of multiple insert statements, and improving performance for large datasets.\r\n",
                "\r\n",
                "\r\n",
                ""
            ],
            "metadata": {
                "language": "sql",
                "azdata_cell_guid": "f72e432d-02f3-4c23-9df8-a7f2920ed39b"
            },
            "attachments": {}
        },
        {
            "cell_type": "markdown",
            "source": [
                "## Task: Inserting Data into the `Supplier` Table\r\n",
                "\r\n",
                "In this task, we will insert records into the `Supplier` table using the **Single Row Insert** approach. Each insert will add one record at a time into the table."
            ],
            "metadata": {
                "azdata_cell_guid": "df6c4511-84c3-44e7-8f0b-82fc59828110"
            },
            "attachments": {}
        },
        {
            "cell_type": "code",
            "source": [
                "-- insert rectords into table 1st. approach\r\n",
                "INSERT INTO dbo.Supplier (Scode, [Name], Balance, City) VALUES (0, 'Deleted supplier', -1, 'None');\r\n",
                "INSERT INTO dbo.Supplier (Scode, [Name], Balance, City) VALUES (101, 'SupplierA', 101010.50, 'Skopje');\r\n",
                "INSERT INTO dbo.Supplier (Scode, [Name], Balance, City) VALUES (102, 'Supplier B', 20000, 'Los Angeles');\r\n",
                "INSERT INTO dbo.Supplier (Scode, [Name], Balance, City) VALUES (103, 'Supplier C', 12000, 'Chicago');\r\n",
                "INSERT INTO dbo.Supplier (Scode, [Name], Balance, City) VALUES (104, 'Supplier D', 18000, 'Houston');\r\n",
                "INSERT INTO dbo.Supplier (Scode, [Name], Balance, City) VALUES (105, 'Supplier E', 25000, 'Phoenix');\r\n",
                ""
            ],
            "metadata": {
                "language": "sql",
                "azdata_cell_guid": "2d3f4175-b124-44ec-811b-490dec440fa3",
                "tags": []
            },
            "outputs": [
                {
                    "output_type": "display_data",
                    "data": {
                        "text/html": "(1 row affected)"
                    },
                    "metadata": {}
                },
                {
                    "output_type": "display_data",
                    "data": {
                        "text/html": "Total execution time: 00:00:00.005"
                    },
                    "metadata": {}
                }
            ],
            "execution_count": 61
        },
        {
            "cell_type": "code",
            "source": [
                "/*\r\n",
                "\r\n",
                "After inserting the data into the table, you can use the following statement to check its contents:\r\n",
                "SELECT * FROM dbo.Supplier;\r\n",
                "\r\n",
                "*/\r\n",
                "SELECT * FROM dbo.Supplier"
            ],
            "metadata": {
                "language": "sql",
                "azdata_cell_guid": "1f08d7b1-11a1-435f-b33c-6c43b2699abd"
            },
            "outputs": [
                {
                    "output_type": "display_data",
                    "data": {
                        "text/html": "(6 rows affected)"
                    },
                    "metadata": {}
                },
                {
                    "output_type": "display_data",
                    "data": {
                        "text/html": "Total execution time: 00:00:00.013"
                    },
                    "metadata": {}
                },
                {
                    "output_type": "execute_result",
                    "execution_count": 62,
                    "data": {
                        "application/vnd.dataresource+json": {
                            "schema": {
                                "fields": [
                                    {
                                        "name": "Scode"
                                    },
                                    {
                                        "name": "Name"
                                    },
                                    {
                                        "name": "Balance"
                                    },
                                    {
                                        "name": "City"
                                    }
                                ]
                            },
                            "data": [
                                {
                                    "Scode": "0",
                                    "Name": "Deleted supplier",
                                    "Balance": "-1",
                                    "City": "None"
                                },
                                {
                                    "Scode": "101",
                                    "Name": "SupplierA",
                                    "Balance": "101011",
                                    "City": "Skopje"
                                },
                                {
                                    "Scode": "102",
                                    "Name": "Supplier B",
                                    "Balance": "20000",
                                    "City": "Los Angeles"
                                },
                                {
                                    "Scode": "103",
                                    "Name": "Supplier C",
                                    "Balance": "12000",
                                    "City": "Chicago"
                                },
                                {
                                    "Scode": "104",
                                    "Name": "Supplier D",
                                    "Balance": "18000",
                                    "City": "Houston"
                                },
                                {
                                    "Scode": "105",
                                    "Name": "Supplier E",
                                    "Balance": "25000",
                                    "City": "Phoenix"
                                }
                            ]
                        },
                        "text/html": "<table><tr><th>Scode</th><th>Name</th><th>Balance</th><th>City</th></tr><tr><td>0</td><td>Deleted supplier</td><td>-1</td><td>None</td></tr><tr><td>101</td><td>SupplierA</td><td>101011</td><td>Skopje</td></tr><tr><td>102</td><td>Supplier B</td><td>20000</td><td>Los Angeles</td></tr><tr><td>103</td><td>Supplier C</td><td>12000</td><td>Chicago</td></tr><tr><td>104</td><td>Supplier D</td><td>18000</td><td>Houston</td></tr><tr><td>105</td><td>Supplier E</td><td>25000</td><td>Phoenix</td></tr></table>"
                    },
                    "metadata": {}
                }
            ],
            "execution_count": 62
        },
        {
            "cell_type": "markdown",
            "source": [
                "## Task: Inserting Data into the `Product` Table\r\n",
                "\r\n",
                "In this task, we will insert records into the `Product` table using the **Bulk-Insert** approach. Each insert will add one record at a time into the table."
            ],
            "metadata": {
                "azdata_cell_guid": "2edce2e3-6800-4635-a9f7-46aeb1b3a1ff"
            },
            "attachments": {}
        },
        {
            "cell_type": "code",
            "source": [
                "-- insert rectords into table 2st. approach, bulk-insert.\r\n",
                "\r\n",
                "\r\n",
                "INSERT INTO dbo.Product (Pcode, TypeCode, [Name], Color, [Weight], City)\r\n",
                "VALUES\r\n",
                "(10001, 01, 'Product 1', 'Red', 10, 'Dallas'),\r\n",
                "(10002, 02, 'Product 2', 'Blue', 12, 'Miami'),\r\n",
                "(10003, 03, 'Product 3', 'Green', 15, 'Atlanta'),\r\n",
                "(10004, 04, 'Product 4', 'Black', 8, 'Seattle'),\r\n",
                "(10005, 05, 'Product 5', 'White', 9, 'Boston');\r\n",
                "\r\n",
                ""
            ],
            "metadata": {
                "language": "sql",
                "azdata_cell_guid": "9cd1f605-6879-47bc-9287-fa9b6ca55cff"
            },
            "outputs": [
                {
                    "output_type": "display_data",
                    "data": {
                        "text/html": "(5 rows affected)"
                    },
                    "metadata": {}
                },
                {
                    "output_type": "display_data",
                    "data": {
                        "text/html": "Total execution time: 00:00:00.005"
                    },
                    "metadata": {}
                }
            ],
            "execution_count": 45
        },
        {
            "cell_type": "code",
            "source": [
                "/*\r\n",
                "\r\n",
                "After inserting the data into the table, you can use the following statement to check its contents:\r\n",
                "SELECT * FROM dbo.Product;\r\n",
                "\r\n",
                "*/\r\n",
                "SELECT * FROM dbo.Product"
            ],
            "metadata": {
                "language": "sql",
                "azdata_cell_guid": "b0237c1b-36c4-41b3-a3c8-fc4126aaafab"
            },
            "outputs": [
                {
                    "output_type": "display_data",
                    "data": {
                        "text/html": "(5 rows affected)"
                    },
                    "metadata": {}
                },
                {
                    "output_type": "display_data",
                    "data": {
                        "text/html": "Total execution time: 00:00:00.006"
                    },
                    "metadata": {}
                },
                {
                    "output_type": "execute_result",
                    "execution_count": 46,
                    "data": {
                        "application/vnd.dataresource+json": {
                            "schema": {
                                "fields": [
                                    {
                                        "name": "Pcode"
                                    },
                                    {
                                        "name": "TypeCode"
                                    },
                                    {
                                        "name": "Name"
                                    },
                                    {
                                        "name": "Color"
                                    },
                                    {
                                        "name": "Weight"
                                    },
                                    {
                                        "name": "City"
                                    }
                                ]
                            },
                            "data": [
                                {
                                    "Pcode": "10001",
                                    "TypeCode": "1",
                                    "Name": "Product 1",
                                    "Color": "Red",
                                    "Weight": "10",
                                    "City": "Dallas"
                                },
                                {
                                    "Pcode": "10002",
                                    "TypeCode": "2",
                                    "Name": "Product 2",
                                    "Color": "Blue",
                                    "Weight": "12",
                                    "City": "Miami"
                                },
                                {
                                    "Pcode": "10003",
                                    "TypeCode": "3",
                                    "Name": "Product 3",
                                    "Color": "Green",
                                    "Weight": "15",
                                    "City": "Atlanta"
                                },
                                {
                                    "Pcode": "10004",
                                    "TypeCode": "4",
                                    "Name": "Product 4",
                                    "Color": "Black",
                                    "Weight": "8",
                                    "City": "Seattle"
                                },
                                {
                                    "Pcode": "10005",
                                    "TypeCode": "5",
                                    "Name": "Product 5",
                                    "Color": "White",
                                    "Weight": "9",
                                    "City": "Boston"
                                }
                            ]
                        },
                        "text/html": "<table><tr><th>Pcode</th><th>TypeCode</th><th>Name</th><th>Color</th><th>Weight</th><th>City</th></tr><tr><td>10001</td><td>1</td><td>Product 1</td><td>Red</td><td>10</td><td>Dallas</td></tr><tr><td>10002</td><td>2</td><td>Product 2</td><td>Blue</td><td>12</td><td>Miami</td></tr><tr><td>10003</td><td>3</td><td>Product 3</td><td>Green</td><td>15</td><td>Atlanta</td></tr><tr><td>10004</td><td>4</td><td>Product 4</td><td>Black</td><td>8</td><td>Seattle</td></tr><tr><td>10005</td><td>5</td><td>Product 5</td><td>White</td><td>9</td><td>Boston</td></tr></table>"
                    },
                    "metadata": {}
                }
            ],
            "execution_count": 46
        },
        {
            "cell_type": "markdown",
            "source": [
                "## Task: Inserting Data into the `Offers` Table\r\n",
                "\r\n",
                "In this task, we will insert records into the `Offers` table using the **Bulk-Insert** approach. Each insert will add one record at a time into the table."
            ],
            "metadata": {
                "azdata_cell_guid": "a544f52f-76d7-4026-a304-0538375c1480"
            },
            "attachments": {}
        },
        {
            "cell_type": "code",
            "source": [
                "-- insert records into table offers\r\n",
                "\r\n",
                "INSERT INTO dbo.Offers (Scode, Pcode, TypeCode, quantityOrdered, dateOrder, quantityDelivered, dateDelivered)\r\n",
                "VALUES \r\n",
                "(101, 10001, 01, 100, '2023-01-10', 90, '2023-01-15'),\r\n",
                "(102, 10002, 02, 150, '2023-02-20', 150, '2023-02-25'),\r\n",
                "(103, 10003, 03, 200, '2023-03-15', 180, '2023-03-22'),\r\n",
                "(104, 10004, 04, 250, '2023-04-10', 230, '2023-04-17'),\r\n",
                "(105, 10005, 05, 300, '2023-05-05', 290, '2023-05-12');\r\n",
                ""
            ],
            "metadata": {
                "language": "sql",
                "azdata_cell_guid": "838e7114-2148-422a-b816-bb7ab570e7cb"
            },
            "outputs": [
                {
                    "output_type": "display_data",
                    "data": {
                        "text/html": "(5 rows affected)"
                    },
                    "metadata": {}
                },
                {
                    "output_type": "display_data",
                    "data": {
                        "text/html": "Total execution time: 00:00:00.031"
                    },
                    "metadata": {}
                }
            ],
            "execution_count": 47
        },
        {
            "cell_type": "code",
            "source": [
                "/*\r\n",
                "\r\n",
                "After inserting the data into the table, you can use the following statement to check its contents:\r\n",
                "SELECT * FROM dbo.Offers;\r\n",
                "\r\n",
                "*/\r\n",
                "\r\n",
                "SELECT * FROM dbo.Offers;"
            ],
            "metadata": {
                "language": "sql",
                "azdata_cell_guid": "5afe3b6e-51b1-434e-aba4-a63e1b734943"
            },
            "outputs": [
                {
                    "output_type": "display_data",
                    "data": {
                        "text/html": "(5 rows affected)"
                    },
                    "metadata": {}
                },
                {
                    "output_type": "display_data",
                    "data": {
                        "text/html": "Total execution time: 00:00:00.004"
                    },
                    "metadata": {}
                },
                {
                    "output_type": "execute_result",
                    "execution_count": 48,
                    "data": {
                        "application/vnd.dataresource+json": {
                            "schema": {
                                "fields": [
                                    {
                                        "name": "Scode"
                                    },
                                    {
                                        "name": "Pcode"
                                    },
                                    {
                                        "name": "TypeCode"
                                    },
                                    {
                                        "name": "quantityOrdered"
                                    },
                                    {
                                        "name": "dateOrder"
                                    },
                                    {
                                        "name": "quantityDelivered"
                                    },
                                    {
                                        "name": "dateDelivered"
                                    }
                                ]
                            },
                            "data": [
                                {
                                    "Scode": "101",
                                    "Pcode": "10001",
                                    "TypeCode": "1",
                                    "quantityOrdered": "100",
                                    "dateOrder": "2023-01-10 00:00:00.000",
                                    "quantityDelivered": "90",
                                    "dateDelivered": "2023-01-15 00:00:00.000"
                                },
                                {
                                    "Scode": "102",
                                    "Pcode": "10002",
                                    "TypeCode": "2",
                                    "quantityOrdered": "150",
                                    "dateOrder": "2023-02-20 00:00:00.000",
                                    "quantityDelivered": "150",
                                    "dateDelivered": "2023-02-25 00:00:00.000"
                                },
                                {
                                    "Scode": "103",
                                    "Pcode": "10003",
                                    "TypeCode": "3",
                                    "quantityOrdered": "200",
                                    "dateOrder": "2023-03-15 00:00:00.000",
                                    "quantityDelivered": "180",
                                    "dateDelivered": "2023-03-22 00:00:00.000"
                                },
                                {
                                    "Scode": "104",
                                    "Pcode": "10004",
                                    "TypeCode": "4",
                                    "quantityOrdered": "250",
                                    "dateOrder": "2023-04-10 00:00:00.000",
                                    "quantityDelivered": "230",
                                    "dateDelivered": "2023-04-17 00:00:00.000"
                                },
                                {
                                    "Scode": "105",
                                    "Pcode": "10005",
                                    "TypeCode": "5",
                                    "quantityOrdered": "300",
                                    "dateOrder": "2023-05-05 00:00:00.000",
                                    "quantityDelivered": "290",
                                    "dateDelivered": "2023-05-12 00:00:00.000"
                                }
                            ]
                        },
                        "text/html": "<table><tr><th>Scode</th><th>Pcode</th><th>TypeCode</th><th>quantityOrdered</th><th>dateOrder</th><th>quantityDelivered</th><th>dateDelivered</th></tr><tr><td>101</td><td>10001</td><td>1</td><td>100</td><td>2023-01-10 00:00:00.000</td><td>90</td><td>2023-01-15 00:00:00.000</td></tr><tr><td>102</td><td>10002</td><td>2</td><td>150</td><td>2023-02-20 00:00:00.000</td><td>150</td><td>2023-02-25 00:00:00.000</td></tr><tr><td>103</td><td>10003</td><td>3</td><td>200</td><td>2023-03-15 00:00:00.000</td><td>180</td><td>2023-03-22 00:00:00.000</td></tr><tr><td>104</td><td>10004</td><td>4</td><td>250</td><td>2023-04-10 00:00:00.000</td><td>230</td><td>2023-04-17 00:00:00.000</td></tr><tr><td>105</td><td>10005</td><td>5</td><td>300</td><td>2023-05-05 00:00:00.000</td><td>290</td><td>2023-05-12 00:00:00.000</td></tr></table>"
                    },
                    "metadata": {}
                }
            ],
            "execution_count": 48
        },
        {
            "cell_type": "markdown",
            "source": [
                "## Task Description: Referential Integrity Modifications\n",
                "\n",
                "In this task, we will modify the newly created tables to satisfy the following referential integrity requirements. These changes will ensure that the database maintains consistency and prevents data issues when certain operations, like deleting or updating supplier or product records, occur. \n",
                "\n",
                "The modifications focus on how to handle updates or deletions in the `Supplier` and `Product` tables, ensuring that the related data in other tables is automatically handled.\n",
                "\n",
                "### Requirements:\n",
                "\n",
                "1. **When a supplier code is deleted**: \n",
                "   - We want to set the default value (which is `Scode = 0` in the `Supplier` table) in all the tables where this `Scode` is being referenced. This ensures that when a supplier is deleted, no records in related tables are left orphaned, and the reference is changed to the default supplier.\n",
                "\n",
                "2. **When a supplier code is updated**:\n",
                "   - We want to automatically update all the tables where this `Scode` is being referenced to reflect the new value. This ensures that the database remains consistent when a supplier's `Scode` is changed.\n",
                "\n",
                "3. **When a primary key in the `Product` table is deleted**:\n",
                "   - We want to delete all the records in other tables that reference this `Product` primary key. This ensures that when a product is removed, no related records remain in other tables, maintaining the integrity of the database.\n",
                "\n",
                "4. **When a primary key in the `Product` table is modified**:\n",
                "   - We want to update all the tables where this product primary key is being referenced. This ensures that when a product's primary key is changed, all related records are updated to reflect the new primary key.\n",
                "\n",
                "### Tasks:\n",
                "\n",
                "- **Task 1**: Modify the `Supplier` foreign key references in other tables to implement `ON DELETE SET DEFAULT` and `ON UPDATE CASCADE`.\n",
                "- **Task 2**: Modify the `Product` foreign key references in other tables to implement `ON DELETE CASCADE` and `ON UPDATE CASCADE`.\n",
                ""
            ],
            "metadata": {
                "language": "sql",
                "azdata_cell_guid": "9f409b55-dc7f-4d63-9091-b22e777828d7"
            },
            "attachments": {}
        },
        {
            "cell_type": "markdown",
            "source": [
                "## Task 1 - Modify the `Supplier` foreign key references in other tables to implement `ON DELETE SET DEFAULT` and `ON UPDATE CASCADE`."
            ],
            "metadata": {
                "language": "sql",
                "azdata_cell_guid": "51967f7f-66d5-4bf6-b39f-4e3d6fea190a"
            },
            "attachments": {}
        },
        {
            "cell_type": "code",
            "source": [
                "ALTER TABLE dbo.Offers\r\n",
                "DROP CONSTRAINT fk_supplier;\r\n",
                "\r\n",
                "GO\r\n",
                "\r\n",
                "ALTER TABLE dbo.Offers\r\n",
                "ADD CONSTRAINT fk_supplier FOREIGN KEY(Scode) REFERENCES dbo.Supplier(Scode)\r\n",
                "ON DELETE SET DEFAULT ON UPDATE CASCADE;"
            ],
            "metadata": {
                "language": "sql",
                "azdata_cell_guid": "6663642f-b794-471c-8d48-3cad6d107b00",
                "tags": []
            },
            "outputs": [],
            "execution_count": null
        },
        {
            "cell_type": "markdown",
            "source": [
                "# Referential Integrity in the Database\r\n",
                "\r\n",
                "Referential integrity is a fundamental concept in relational database management systems (RDBMS) that ensures the consistency and accuracy of data across related tables. It is enforced through the use of **foreign key constraints**, which maintain the relationships between tables by ensuring that key values in one table correspond to valid entries in another table.\r\n",
                "\r\n",
                "## What is a Foreign Key?\r\n",
                "\r\n",
                "A foreign key is a column or set of columns in a table that uniquely identifies a row of another table. Foreign key constraints are used to ensure that the data in the database is consistent and prevent invalid data from being inserted.\r\n",
                "\r\n",
                "In the context of the `Offers` table, for example, the `Scode` column is a foreign key that references the `Scode` column in the `Supplier` table. This ensures that every offer is associated with a valid supplier.\r\n",
                "\r\n",
                "## ON DELETE SET DEFAULT\r\n",
                "\r\n",
                "When establishing a foreign key relationship between tables, it is possible to specify actions to take when a referenced record in the parent table (in this case, the `Supplier` table) is deleted. The **`ON DELETE SET DEFAULT`** action is used to automatically set the value of the foreign key column to a default value when the referenced record is deleted.\r\n",
                "\r\n",
                "For example, if a `Supplier` record is deleted, and there is an `ON DELETE SET DEFAULT` constraint on the `Offers` table, the `Scode` in the `Offers` table will automatically be set to its default value (in this case, `0`). This ensures that the `Offers` table does not contain any null or invalid references and maintains referential integrity even after the deletion of a record in the parent table.\r\n",
                "\r\n",
                "```sql\r\n",
                "CONSTRAINT fk_supplier FOREIGN KEY (Scode)\r\n",
                "REFERENCES dbo.Supplier(Scode)\r\n",
                "ON DELETE SET DEFAULT;\r\n",
                "```\r\n",
                "\r\n",
                "This constraint is particularly useful when you want to maintain data integrity in situations where the parent record may be deleted, but you want to ensure that the dependent records (in this case, offers) are not left with invalid or null foreign key references.\r\n",
                "\r\n",
                "## Why Create a Record with ID 0 in the Supplier Table?\r\n",
                "\r\n",
                "To ensure the proper functioning of the `ON DELETE SET DEFAULT` constraint and maintain the integrity of the `Offers` table, we create a record with the ID `0` in the `Supplier` table. This record serves as the **default supplier** for any `Offers` that are either not linked to a specific supplier or are linked to a supplier that may no longer exist.\r\n",
                "\r\n",
                "### The Role of the Default Supplier:\r\n",
                "\r\n",
                "- **Placeholder for missing supplier data**: The `Scode = 0` represents a special entry in the `Supplier` table that acts as a placeholder. It is used when no specific supplier is associated with an `Offer`.\r\n",
                "  \r\n",
                "- **Ensuring data integrity**: If a supplier is deleted from the `Supplier` table, the `ON DELETE SET DEFAULT` action ensures that any `Offers` linked to that supplier are automatically reassigned to the default supplier with `Scode = 0`. This prevents orphaned records and ensures that the `Offers` table remains consistent and valid.\r\n",
                "  \r\n",
                "- **Prevents foreign key violations**: If the record with `Scode = 0` did not exist in the `Supplier` table, any reference to this default value in the `Offers` table would result in a foreign key constraint violation. By ensuring that this record exists, we can safely rely on the default value and maintain the relationship between `Offers` and `Supplier` even when specific suppliers are deleted.\r\n",
                "\r\n",
                "### Important Consideration:\r\n",
                "\r\n",
                "- **Always ensure the record with `Scode = 0` exists**: If this record is deleted or absent in the `Supplier` table, the integrity of the `Offers` table will be compromised. Any `Offers` records referencing `Scode = 0` would violate the foreign key constraint, causing errors during data operations.\r\n",
                "\r\n",
                "By establishing this default supplier record and using the `ON DELETE SET DEFAULT` constraint, we maintain referential integrity while allowing for flexibility in how suppliers are managed in the database."
            ],
            "metadata": {
                "language": "sql",
                "azdata_cell_guid": "9f3c1e0d-65eb-4430-af7a-643c63ec5128"
            },
            "attachments": {}
        },
        {
            "cell_type": "markdown",
            "source": [
                "## Task 2 - Modify the `Product` foreign key references in other tables to implement `ON DELETE CASCADE` and `ON UPDATE CASCADE`."
            ],
            "metadata": {
                "azdata_cell_guid": "1b43dc3b-031c-47b3-8700-b07d7422b6dd"
            },
            "attachments": {}
        },
        {
            "cell_type": "code",
            "source": [
                "ALTER TABLE dbo.Offers\r\n",
                "DROP CONSTRAINT fk_product;\r\n",
                "\r\n",
                "GO\r\n",
                "\r\n",
                "ALTER TABLE dbo.Offers\r\n",
                "ADD CONSTRAINT fk_product FOREIGN KEY(Pcode, TypeCode) REFERENCES dbo.Product(Pcode, TypeCode)\r\n",
                "ON DELETE CASCADE ON UPDATE CASCADE;"
            ],
            "metadata": {
                "language": "sql",
                "azdata_cell_guid": "225d3d89-96d4-419e-8608-5f85c1344af8",
                "tags": []
            },
            "outputs": [],
            "execution_count": null
        },
        {
            "cell_type": "markdown",
            "source": [
                "## Task: Testing Referential Integrity with the Added Constraints\r\n",
                "\r\n",
                "In this task, we will test the referential integrity of the database by performing a delete operation on a supplier. Specifically, we will delete the supplier with the name \"Supplier C\" and observe how the database responds based on the constraints that have been added.\r\n",
                "\r\n",
                "### Purpose of the Test:\r\n",
                "The goal is to verify that the database handles the deletion of a supplier correctly, ensuring that the related records in the other tables are properly updated or deleted, as specified by the constraints:\r\n",
                "\r\n",
                "- **ON DELETE SET DEFAULT**: When a supplier is deleted, any references to that supplier in other tables should be updated to the default value (`Scode = 0`), as set in the `Supplier` table.\r\n",
                "- **ON UPDATE CASCADE**: If the supplier code (`Scode`) was updated, it should reflect in all the referenced tables automatically.\r\n",
                "  \r\n",
                "By performing this test, we will ensure that the foreign key relationships maintain the integrity of the database, preventing orphaned records or foreign key violations.\r\n",
                "\r\n",
                "### Task Steps:\r\n",
                "1. **Delete the Supplier**: We will delete the supplier with the name \"Supplier C\" from the `Supplier` table.\r\n",
                "2. **Observe the Changes**: After the delete operation, we will check the related tables (e.g., `Offers`, `Product`) to see how they handle the deletion of \"Supplier C\".\r\n",
                "   - The `Scode` in the `Offers` table should be updated to `0` for any rows referencing \"Supplier C\".\r\n",
                "   - Any rows in other tables referencing the deleted `Scode` should either be updated or deleted, depending on the defined constraints.\r\n",
                "   \r\n",
                "This test will confirm that the referential integrity constraints are working as expected in the database.\r\n",
                ""
            ],
            "metadata": {
                "language": "sql",
                "azdata_cell_guid": "3d7b53d3-144e-42b0-9e4e-9626b9d4e623"
            },
            "attachments": {}
        },
        {
            "cell_type": "code",
            "source": [
                "/*\r\n",
                "\r\n",
                "Before deleting an item (row) from the Supplier table, let's check the current situation\r\n",
                "in both the Supplier and Offers tables to see the existing data.\r\n",
                "\r\n",
                "*/\r\n",
                "\r\n",
                "-- Query the Supplier table to view its current records\r\n",
                "SELECT * FROM dbo.Supplier;\r\n",
                "GO\r\n",
                "\r\n",
                "-- Query the Offers table to view how the Supplier data is referenced\r\n",
                "SELECT * FROM dbo.Offers;\r\n",
                ""
            ],
            "metadata": {
                "language": "sql",
                "azdata_cell_guid": "b76c97a7-af16-4908-b157-05c73a1cc958"
            },
            "outputs": [
                {
                    "output_type": "display_data",
                    "data": {
                        "text/html": "(5 rows affected)"
                    },
                    "metadata": {}
                },
                {
                    "output_type": "display_data",
                    "data": {
                        "text/html": "(5 rows affected)"
                    },
                    "metadata": {}
                },
                {
                    "output_type": "display_data",
                    "data": {
                        "text/html": "Total execution time: 00:00:00.011"
                    },
                    "metadata": {}
                },
                {
                    "output_type": "execute_result",
                    "execution_count": 59,
                    "data": {
                        "application/vnd.dataresource+json": {
                            "schema": {
                                "fields": [
                                    {
                                        "name": "Scode"
                                    },
                                    {
                                        "name": "Name"
                                    },
                                    {
                                        "name": "Balance"
                                    },
                                    {
                                        "name": "City"
                                    }
                                ]
                            },
                            "data": [
                                {
                                    "Scode": "101",
                                    "Name": "SupplierA",
                                    "Balance": "101011",
                                    "City": "Skopje"
                                },
                                {
                                    "Scode": "102",
                                    "Name": "Supplier B",
                                    "Balance": "20000",
                                    "City": "Los Angeles"
                                },
                                {
                                    "Scode": "103",
                                    "Name": "Supplier C",
                                    "Balance": "12000",
                                    "City": "Chicago"
                                },
                                {
                                    "Scode": "104",
                                    "Name": "Supplier D",
                                    "Balance": "18000",
                                    "City": "Houston"
                                },
                                {
                                    "Scode": "105",
                                    "Name": "Supplier E",
                                    "Balance": "25000",
                                    "City": "Phoenix"
                                }
                            ]
                        },
                        "text/html": "<table><tr><th>Scode</th><th>Name</th><th>Balance</th><th>City</th></tr><tr><td>101</td><td>SupplierA</td><td>101011</td><td>Skopje</td></tr><tr><td>102</td><td>Supplier B</td><td>20000</td><td>Los Angeles</td></tr><tr><td>103</td><td>Supplier C</td><td>12000</td><td>Chicago</td></tr><tr><td>104</td><td>Supplier D</td><td>18000</td><td>Houston</td></tr><tr><td>105</td><td>Supplier E</td><td>25000</td><td>Phoenix</td></tr></table>"
                    },
                    "metadata": {}
                },
                {
                    "output_type": "execute_result",
                    "execution_count": 59,
                    "data": {
                        "application/vnd.dataresource+json": {
                            "schema": {
                                "fields": [
                                    {
                                        "name": "Scode"
                                    },
                                    {
                                        "name": "Pcode"
                                    },
                                    {
                                        "name": "TypeCode"
                                    },
                                    {
                                        "name": "quantityOrdered"
                                    },
                                    {
                                        "name": "dateOrder"
                                    },
                                    {
                                        "name": "quantityDelivered"
                                    },
                                    {
                                        "name": "dateDelivered"
                                    }
                                ]
                            },
                            "data": [
                                {
                                    "Scode": "101",
                                    "Pcode": "10001",
                                    "TypeCode": "1",
                                    "quantityOrdered": "100",
                                    "dateOrder": "2023-01-10 00:00:00.000",
                                    "quantityDelivered": "90",
                                    "dateDelivered": "2023-01-15 00:00:00.000"
                                },
                                {
                                    "Scode": "102",
                                    "Pcode": "10002",
                                    "TypeCode": "2",
                                    "quantityOrdered": "150",
                                    "dateOrder": "2023-02-20 00:00:00.000",
                                    "quantityDelivered": "150",
                                    "dateDelivered": "2023-02-25 00:00:00.000"
                                },
                                {
                                    "Scode": "103",
                                    "Pcode": "10003",
                                    "TypeCode": "3",
                                    "quantityOrdered": "200",
                                    "dateOrder": "2023-03-15 00:00:00.000",
                                    "quantityDelivered": "180",
                                    "dateDelivered": "2023-03-22 00:00:00.000"
                                },
                                {
                                    "Scode": "104",
                                    "Pcode": "10004",
                                    "TypeCode": "4",
                                    "quantityOrdered": "250",
                                    "dateOrder": "2023-04-10 00:00:00.000",
                                    "quantityDelivered": "230",
                                    "dateDelivered": "2023-04-17 00:00:00.000"
                                },
                                {
                                    "Scode": "105",
                                    "Pcode": "10005",
                                    "TypeCode": "5",
                                    "quantityOrdered": "300",
                                    "dateOrder": "2023-05-05 00:00:00.000",
                                    "quantityDelivered": "290",
                                    "dateDelivered": "2023-05-12 00:00:00.000"
                                }
                            ]
                        },
                        "text/html": "<table><tr><th>Scode</th><th>Pcode</th><th>TypeCode</th><th>quantityOrdered</th><th>dateOrder</th><th>quantityDelivered</th><th>dateDelivered</th></tr><tr><td>101</td><td>10001</td><td>1</td><td>100</td><td>2023-01-10 00:00:00.000</td><td>90</td><td>2023-01-15 00:00:00.000</td></tr><tr><td>102</td><td>10002</td><td>2</td><td>150</td><td>2023-02-20 00:00:00.000</td><td>150</td><td>2023-02-25 00:00:00.000</td></tr><tr><td>103</td><td>10003</td><td>3</td><td>200</td><td>2023-03-15 00:00:00.000</td><td>180</td><td>2023-03-22 00:00:00.000</td></tr><tr><td>104</td><td>10004</td><td>4</td><td>250</td><td>2023-04-10 00:00:00.000</td><td>230</td><td>2023-04-17 00:00:00.000</td></tr><tr><td>105</td><td>10005</td><td>5</td><td>300</td><td>2023-05-05 00:00:00.000</td><td>290</td><td>2023-05-12 00:00:00.000</td></tr></table>"
                    },
                    "metadata": {}
                }
            ],
            "execution_count": 59
        },
        {
            "cell_type": "markdown",
            "source": [
                "Example operations to check if the constraints are working (Remove Supplier C from suppliers table)"
            ],
            "metadata": {
                "language": "sql",
                "azdata_cell_guid": "994bea1b-bc57-428a-b038-3ad0f3163b53"
            },
            "attachments": {}
        },
        {
            "cell_type": "code",
            "source": [
                "/*\r\n",
                "\r\n",
                "-- Delete the record from the Supplier table only if it exists\r\n",
                "IF EXISTS (SELECT 1 FROM dbo.Supplier WHERE [Name] LIKE 'Supplier C')\r\n",
                "BEGIN\r\n",
                "    DELETE FROM dbo.Supplier WHERE [Name] LIKE 'Supplier C';\r\n",
                "END;\r\n",
                "\r\n",
                "*/\r\n",
                "\r\n",
                "DELETE dbo.Supplier\r\n",
                "WHERE [Name] LIKE 'Supplier C';\r\n",
                "GO\r\n",
                "SELECT *\r\n",
                "FROM dbo.Offers"
            ],
            "metadata": {
                "language": "sql",
                "azdata_cell_guid": "9c9d245d-dae7-4c07-a2ea-bde7bd3a3dcc",
                "tags": []
            },
            "outputs": [
                {
                    "output_type": "display_data",
                    "data": {
                        "text/html": "Commands completed successfully."
                    },
                    "metadata": {}
                },
                {
                    "output_type": "display_data",
                    "data": {
                        "text/html": "(5 rows affected)"
                    },
                    "metadata": {}
                },
                {
                    "output_type": "display_data",
                    "data": {
                        "text/html": "Total execution time: 00:00:00.014"
                    },
                    "metadata": {}
                },
                {
                    "output_type": "execute_result",
                    "execution_count": 64,
                    "data": {
                        "application/vnd.dataresource+json": {
                            "schema": {
                                "fields": [
                                    {
                                        "name": "Scode"
                                    },
                                    {
                                        "name": "Pcode"
                                    },
                                    {
                                        "name": "TypeCode"
                                    },
                                    {
                                        "name": "quantityOrdered"
                                    },
                                    {
                                        "name": "dateOrder"
                                    },
                                    {
                                        "name": "quantityDelivered"
                                    },
                                    {
                                        "name": "dateDelivered"
                                    }
                                ]
                            },
                            "data": [
                                {
                                    "Scode": "0",
                                    "Pcode": "10003",
                                    "TypeCode": "3",
                                    "quantityOrdered": "200",
                                    "dateOrder": "2023-03-15 00:00:00.000",
                                    "quantityDelivered": "180",
                                    "dateDelivered": "2023-03-22 00:00:00.000"
                                },
                                {
                                    "Scode": "101",
                                    "Pcode": "10001",
                                    "TypeCode": "1",
                                    "quantityOrdered": "100",
                                    "dateOrder": "2023-01-10 00:00:00.000",
                                    "quantityDelivered": "90",
                                    "dateDelivered": "2023-01-15 00:00:00.000"
                                },
                                {
                                    "Scode": "102",
                                    "Pcode": "10002",
                                    "TypeCode": "2",
                                    "quantityOrdered": "150",
                                    "dateOrder": "2023-02-20 00:00:00.000",
                                    "quantityDelivered": "150",
                                    "dateDelivered": "2023-02-25 00:00:00.000"
                                },
                                {
                                    "Scode": "104",
                                    "Pcode": "10004",
                                    "TypeCode": "4",
                                    "quantityOrdered": "250",
                                    "dateOrder": "2023-04-10 00:00:00.000",
                                    "quantityDelivered": "230",
                                    "dateDelivered": "2023-04-17 00:00:00.000"
                                },
                                {
                                    "Scode": "105",
                                    "Pcode": "10005",
                                    "TypeCode": "5",
                                    "quantityOrdered": "300",
                                    "dateOrder": "2023-05-05 00:00:00.000",
                                    "quantityDelivered": "290",
                                    "dateDelivered": "2023-05-12 00:00:00.000"
                                }
                            ]
                        },
                        "text/html": "<table><tr><th>Scode</th><th>Pcode</th><th>TypeCode</th><th>quantityOrdered</th><th>dateOrder</th><th>quantityDelivered</th><th>dateDelivered</th></tr><tr><td>0</td><td>10003</td><td>3</td><td>200</td><td>2023-03-15 00:00:00.000</td><td>180</td><td>2023-03-22 00:00:00.000</td></tr><tr><td>101</td><td>10001</td><td>1</td><td>100</td><td>2023-01-10 00:00:00.000</td><td>90</td><td>2023-01-15 00:00:00.000</td></tr><tr><td>102</td><td>10002</td><td>2</td><td>150</td><td>2023-02-20 00:00:00.000</td><td>150</td><td>2023-02-25 00:00:00.000</td></tr><tr><td>104</td><td>10004</td><td>4</td><td>250</td><td>2023-04-10 00:00:00.000</td><td>230</td><td>2023-04-17 00:00:00.000</td></tr><tr><td>105</td><td>10005</td><td>5</td><td>300</td><td>2023-05-05 00:00:00.000</td><td>290</td><td>2023-05-12 00:00:00.000</td></tr></table>"
                    },
                    "metadata": {}
                }
            ],
            "execution_count": 64
        },
        {
            "cell_type": "markdown",
            "source": [
                "## Explanation of the ON DELETE SET DEFAULT Constraint and Its Impact on the Offers Table\r\n",
                "\r\n",
                "In the scenario where we delete the supplier 'Supplier C' from the `Supplier` table, the `ON DELETE SET DEFAULT` constraint ensures that any records in the `Offers` table that reference 'Supplier C' are updated with the default supplier ID, which is `0` (the record with `Scode = 0` in the `Supplier` table).\r\n",
                "\r\n",
                "### Step-by-Step Process:\r\n",
                "\r\n",
                "1. **Current Data in the Supplier Table**:\r\n",
                "    The `Supplier` table contains the following record for 'Supplier C':\r\n",
                "    \r\n",
                "    | Scode | Name         | Balance  | City        |\r\n",
                "    |-------|--------------|----------|-------------|\r\n",
                "    | 103   | Supplier C   | 12000    | Chicago     |\r\n",
                "\r\n",
                "2. **Current Data in the Offers Table**:\r\n",
                "    The `Offers` table contains the following record where 'Supplier C' is referenced by `Scode = 103`:\r\n",
                "    \r\n",
                "    | Scode | Pcode | TypeCode | quantityOrdered | dateOrder  | quantityDelivered | dateDelivered |\r\n",
                "    |-------|-------|----------|-----------------|------------|-------------------|---------------|\r\n",
                "    | 103   | 10003 | 03       | 200             | 2023-03-15 | 180               | 2023-03-22    |\r\n",
                "\r\n",
                "3. **Effect of Deleting Supplier C**:\r\n",
                "    When we delete 'Supplier C' from the `Supplier` table, the `ON DELETE SET DEFAULT` constraint automatically updates any rows in the `Offers` table that referenced 'Supplier C' (where `Scode = 103`) to set the `Scode` value to `0`. This is the default value for a supplier in the `Supplier` table.\r\n",
                "\r\n",
                "4. **Result After Deletion**:\r\n",
                "    After the deletion of 'Supplier C', the `Offers` table will be updated, and the `Scode` for the offer where 'Supplier C' was previously referenced will now be `0`, linking the offer to the default supplier. The updated `Offers` table will look like this:\r\n",
                "    \r\n",
                "    | Scode | Pcode | TypeCode | quantityOrdered | dateOrder  | quantityDelivered | dateDelivered |\r\n",
                "    |-------|-------|----------|-----------------|------------|-------------------|---------------|\r\n",
                "    | 0     | 10003 | 03       | 200             | 2023-03-15 | 180               | 2023-03-22    |\r\n",
                "\r\n",
                "    This ensures that no data is left orphaned in the `Offers` table, and all records remain consistent, as the offer is now linked to the default supplier (`Scode = 0`).\r\n",
                "\r\n",
                "### Conclusion:\r\n",
                "The `ON DELETE SET DEFAULT` constraint helps maintain referential integrity in the database by ensuring that when a supplier is deleted, any associated offers are automatically reassigned to a default supplier. In this case, deleting 'Supplier C' from the `Supplier` table causes the `Scode` in the `Offers` table to be updated to `0`, the default supplier ID. This behavior can be observed in the tables before and after the deletion process, ensuring that there are no orphaned records and that the database maintains its integrity.\r\n",
                "\r\n",
                ""
            ],
            "metadata": {
                "azdata_cell_guid": "2ab68b76-f43f-443a-bd17-3f291688e40c"
            },
            "attachments": {}
        },
        {
            "cell_type": "markdown",
            "source": [
                "## Understanding the `GO` Statement in MS SQL\r\n",
                "\r\n",
                "In Microsoft SQL Server, the `GO` statement is a batch separator used in SQL scripts to indicate the end of a batch of Transact-SQL statements. It is not a Transact-SQL command itself but is interpreted by SQL Server Management Studio (SSMS) or other SQL tools to signal the end of a batch.\r\n",
                "\r\n",
                "### Purpose of `GO`\r\n",
                "The `GO` statement allows you to separate multiple SQL statements into distinct batches that can be executed independently. Each batch can have its own set of declarations, variables, or other operations, and it will be sent to the SQL Server for execution when the `GO` command is encountered.\r\n",
                "\r\n",
                "### Key Points About `GO`:\r\n",
                "- **Batch Separator**: `GO` divides a SQL script into one or more batches.\r\n",
                "- **Not Part of T-SQL**: Unlike other SQL commands (such as `SELECT`, `INSERT`, or `UPDATE`), `GO` is not part of the T-SQL language itself. It is processed by the query tool (like SSMS) and not by the SQL Server engine.\r\n",
                "- **Execution Context**: When you execute a batch, the SQL Server engine processes each batch independently. This means that variables, temporary tables, and certain other objects created in one batch are not accessible in subsequent batches.\r\n",
                "\r\n",
                "### Usage of `GO`:\r\n",
                "- **Separating Multiple Statements**: If you have a script with several SQL statements, you can separate them using `GO`. Each `GO` command starts a new batch for execution.\r\n",
                "  \r\n",
                "- **Handling Errors**: If a statement within a batch fails, only that batch will be rolled back. Other batches will continue executing.\r\n",
                "\r\n",
                "- **Scope of Variables**: Variables declared in one batch are not accessible in other batches. If you need to share variables between batches, you must declare and set them in each batch individually.\r\n",
                "\r\n",
                "### Example:\r\n",
                "```sql\r\n",
                "-- First Batch: Create a new table\r\n",
                "CREATE TABLE Products (ProductID INT, ProductName VARCHAR(100));\r\n",
                "GO\r\n",
                "\r\n",
                "-- Second Batch: Insert data into the Products table\r\n",
                "INSERT INTO Products (ProductID, ProductName) VALUES (1, 'Laptop');\r\n",
                "GO\r\n",
                "\r\n",
                "-- Third Batch: Query the table to see the data\r\n",
                "SELECT * FROM Products;\r\n",
                "GO\r\n",
                "```\r\n",
                "\r\n",
                "In the example above, the script is divided into three batches:\r\n",
                "\r\n",
                "1. **Creating the Products table**.\r\n",
                "2. **Inserting data into the table**.\r\n",
                "3. **Querying the table to view the inserted data**.\r\n",
                "\r\n",
                "Each `GO` statement ends the current batch and signals the SQL Server to execute it before moving on to the next.\r\n",
                "\r\n",
                "### Important Notes:\r\n",
                "- **Not Needed for Every Statement**: You do not need to use `GO` after every SQL statement. It is typically used to separate logically distinct operations that need to be processed independently.\r\n",
                "- **Impact on Transactions**: `GO` will commit all changes made in a batch if the batch completes successfully, but it will not affect transactions that are explicitly started and managed with `BEGIN TRANSACTION`, `COMMIT`, and `ROLLBACK`.\r\n",
                "\r\n",
                "### Conclusion:\r\n",
                "The `GO` statement is a helpful tool for organizing and managing SQL scripts, particularly when working with multiple independent SQL commands in a single file. It provides the necessary separation of batches for clarity, scope management, and error handling in SQL Server environments.\r\n",
                ""
            ],
            "metadata": {
                "azdata_cell_guid": "d0b6fe28-2200-4d86-ab37-95c7ae82a94c"
            },
            "attachments": {}
        }
    ]
}